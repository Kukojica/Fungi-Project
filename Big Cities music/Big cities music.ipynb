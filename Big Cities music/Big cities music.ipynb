{
 "cells": [
  {
   "cell_type": "markdown",
   "metadata": {
    "deletable": false,
    "editable": false,
    "id": "E0vqbgi9ay0H"
   },
   "source": [
    "# Яндекс Музыка"
   ]
  },
  {
   "cell_type": "markdown",
   "metadata": {
    "deletable": false,
    "editable": false,
    "id": "VUC88oWjTJw2"
   },
   "source": [
    "Сравнение Москвы и Петербурга окружено мифами. Например:\n",
    " * Москва — мегаполис, подчинённый жёсткому ритму рабочей недели;\n",
    " * Петербург — культурная столица, со своими вкусами.\n",
    "\n",
    "На данных Яндекс Музыки вы сравните поведение пользователей двух столиц.\n",
    "\n",
    "**Цель исследования** — проверьте три гипотезы:\n",
    "1. Активность пользователей зависит от дня недели. Причём в Москве и Петербурге это проявляется по-разному.\n",
    "2. В понедельник утром в Москве преобладают одни жанры, а в Петербурге — другие. Так же и вечером пятницы преобладают разные жанры — в зависимости от города. \n",
    "3. Москва и Петербург предпочитают разные жанры музыки. В Москве чаще слушают поп-музыку, в Петербурге — русский рэп.\n",
    "\n",
    "**Ход исследования**\n",
    "\n",
    "Данные о поведении пользователей вы получите из файла `yandex_music_project.csv`. О качестве данных ничего не известно. Поэтому перед проверкой гипотез понадобится обзор данных. \n",
    "\n",
    "Вы проверите данные на ошибки и оцените их влияние на исследование. Затем, на этапе предобработки вы поищете возможность исправить самые критичные ошибки данных.\n",
    " \n",
    "Таким образом, исследование пройдёт в три этапа:\n",
    " 1. Обзор данных.\n",
    " 2. Предобработка данных.\n",
    " 3. Проверка гипотез.\n",
    "\n"
   ]
  },
  {
   "cell_type": "markdown",
   "metadata": {
    "deletable": false,
    "editable": false,
    "id": "Ml1hmfXC_Zcs"
   },
   "source": [
    "## Обзор данных\n",
    "\n",
    "Составьте первое представление о данных Яндекс Музыки.\n",
    "\n",
    "\n"
   ]
  },
  {
   "cell_type": "markdown",
   "metadata": {
    "deletable": false,
    "editable": false,
    "id": "57eAOGIz_Zcs",
    "tags": [
     "start_task"
    ]
   },
   "source": [
    "**Задание 1**\n",
    "\n",
    "Основной инструмент аналитика — `pandas`. Импортируйте эту библиотеку."
   ]
  },
  {
   "cell_type": "code",
   "execution_count": 516,
   "metadata": {
    "deletable": false,
    "id": "AXN7PHPN_Zcs"
   },
   "outputs": [],
   "source": [
    "# импорт библиотеки pandas\n",
    "import pandas as pd"
   ]
  },
  {
   "cell_type": "markdown",
   "metadata": {
    "deletable": false,
    "editable": false,
    "id": "SG23P8tt_Zcs",
    "tags": [
     "start_task"
    ]
   },
   "source": [
    "**Задание 2**\n",
    "\n",
    "Прочитайте файл `yandex_music_project.csv` из папки `/datasets` и сохраните его в переменной `df`:"
   ]
  },
  {
   "cell_type": "code",
   "execution_count": 517,
   "metadata": {
    "deletable": false,
    "id": "fFVu7vqh_Zct"
   },
   "outputs": [],
   "source": [
    "# чтение файла с данными и сохранение в df\n",
    "df = pd.read_csv('/datasets/yandex_music_project.csv')"
   ]
  },
  {
   "cell_type": "markdown",
   "metadata": {
    "deletable": false,
    "editable": false,
    "id": "rDoOMd3uTqnZ",
    "tags": [
     "start_task"
    ]
   },
   "source": [
    "**Задание 3**\n",
    "\n",
    "\n",
    "Выведите на экран первые десять строк таблицы:"
   ]
  },
  {
   "cell_type": "code",
   "execution_count": 518,
   "metadata": {
    "deletable": false,
    "id": "oWTVX3gW_Zct"
   },
   "outputs": [
    {
     "name": "stdout",
     "output_type": "stream",
     "text": [
      "     userID                        Track            artist   genre  \\\n",
      "0  FFB692EC            Kamigata To Boots  The Mass Missile    rock   \n",
      "1  55204538  Delayed Because of Accident  Andreas Rönnberg    rock   \n",
      "2    20EC38            Funiculì funiculà       Mario Lanza     pop   \n",
      "3  A3DD03C9        Dragons in the Sunset        Fire + Ice    folk   \n",
      "4  E2DC1FAE                  Soul People        Space Echo   dance   \n",
      "5  842029A1                    Преданная         IMPERVTOR  rusrap   \n",
      "6  4CB90AA5                         True      Roman Messer   dance   \n",
      "7  F03E1C1F             Feeling This Way   Polina Griffith   dance   \n",
      "8  8FA1D3BE     И вновь продолжается бой               NaN  ruspop   \n",
      "9  E772D5C0                    Pessimist               NaN   dance   \n",
      "\n",
      "             City        time        Day  \n",
      "0  Saint-Petersburg  20:28:33  Wednesday  \n",
      "1            Moscow  14:07:09     Friday  \n",
      "2  Saint-Petersburg  20:58:07  Wednesday  \n",
      "3  Saint-Petersburg  08:37:09     Monday  \n",
      "4            Moscow  08:34:34     Monday  \n",
      "5  Saint-Petersburg  13:09:41     Friday  \n",
      "6            Moscow  13:00:07  Wednesday  \n",
      "7            Moscow  20:47:49  Wednesday  \n",
      "8            Moscow  09:17:40     Friday  \n",
      "9  Saint-Petersburg  21:20:49  Wednesday  \n"
     ]
    }
   ],
   "source": [
    "# получение первых 10 строк таблицы df\n",
    "print(df.head(10))"
   ]
  },
  {
   "cell_type": "markdown",
   "metadata": {
    "deletable": false,
    "editable": false,
    "id": "EO73Kwic_Zct",
    "tags": [
     "start_task"
    ]
   },
   "source": [
    "**Задание 4**\n",
    "\n",
    "\n",
    "Одной командой получить общую информацию о таблице c помощью метода `info()`:"
   ]
  },
  {
   "cell_type": "code",
   "execution_count": 519,
   "metadata": {
    "deletable": false,
    "id": "DSf2kIb-_Zct"
   },
   "outputs": [
    {
     "name": "stdout",
     "output_type": "stream",
     "text": [
      "<class 'pandas.core.frame.DataFrame'>\n",
      "RangeIndex: 65079 entries, 0 to 65078\n",
      "Data columns (total 7 columns):\n",
      " #   Column    Non-Null Count  Dtype \n",
      "---  ------    --------------  ----- \n",
      " 0     userID  65079 non-null  object\n",
      " 1   Track     63848 non-null  object\n",
      " 2   artist    57876 non-null  object\n",
      " 3   genre     63881 non-null  object\n",
      " 4     City    65079 non-null  object\n",
      " 5   time      65079 non-null  object\n",
      " 6   Day       65079 non-null  object\n",
      "dtypes: object(7)\n",
      "memory usage: 3.5+ MB\n"
     ]
    }
   ],
   "source": [
    "# получение общей информации о данных в таблице df\n",
    "df.info()"
   ]
  },
  {
   "cell_type": "markdown",
   "metadata": {
    "deletable": false,
    "editable": false,
    "id": "TaQ2Iwbr_Zct"
   },
   "source": [
    "Итак, в таблице семь столбцов. Тип данных во всех столбцах — `object`.\n",
    "\n",
    "Согласно документации к данным:\n",
    "* `userID` — идентификатор пользователя;\n",
    "* `Track` — название трека;  \n",
    "* `artist` — имя исполнителя;\n",
    "* `genre` — название жанра;\n",
    "* `City` — город пользователя;\n",
    "* `time` — время начала прослушивания;\n",
    "* `Day` — день недели.\n",
    "\n",
    "Количество значений в столбцах различается. Значит, в данных есть пропущенные значения."
   ]
  },
  {
   "cell_type": "markdown",
   "metadata": {
    "deletable": false,
    "editable": false,
    "id": "rAfziTBDmf2h",
    "tags": [
     "start_task"
    ]
   },
   "source": [
    "**Задание 5**\n",
    "\n",
    "**Вопрос со свободной формой ответа**\n",
    "\n",
    "В названиях колонок видны нарушения стиля:\n",
    "* Строчные буквы сочетаются с прописными.\n",
    "* Встречаются пробелы.\n",
    "\n",
    "Какое третье нарушение?"
   ]
  },
  {
   "cell_type": "code",
   "execution_count": 520,
   "metadata": {
    "id": "jD8EXEIvmf2h"
   },
   "outputs": [],
   "source": [
    "# Напишите ваш ответ здесь комментарием. Не удаляйте символ #. Не меняйте тип этой ячейки на Markdown."
   ]
  },
  {
   "cell_type": "markdown",
   "metadata": {
    "deletable": false,
    "editable": false,
    "id": "MCB6-dXG_Zct"
   },
   "source": [
    "**Выводы**\n",
    "\n",
    "В каждой строке таблицы — данные о прослушанном треке. Часть колонок описывает саму композицию: название, исполнителя и жанр. Остальные данные рассказывают о пользователе: из какого он города, когда он слушал музыку. \n",
    "\n",
    "Предварительно можно утверждать, что данных достаточно для проверки гипотез. Но встречаются пропуски в данных, а в названиях колонок — расхождения с хорошим стилем.\n",
    "\n",
    "Чтобы двигаться дальше, нужно устранить проблемы в данных."
   ]
  },
  {
   "cell_type": "markdown",
   "metadata": {
    "deletable": false,
    "editable": false,
    "id": "SjYF6Ub9_Zct"
   },
   "source": [
    "## Предобработка данных\n",
    "Исправьте стиль в заголовках столбцов, исключите пропуски. Затем проверьте данные на дубликаты."
   ]
  },
  {
   "cell_type": "markdown",
   "metadata": {
    "deletable": false,
    "editable": false,
    "id": "dIaKXr29_Zct",
    "tags": [
     "start_task"
    ]
   },
   "source": [
    "### Стиль заголовков\n",
    "\n",
    "**Задание 6**\n",
    "\n",
    "Выведите на экран названия столбцов:"
   ]
  },
  {
   "cell_type": "code",
   "execution_count": 521,
   "metadata": {
    "deletable": false,
    "id": "oKOTdF_Q_Zct"
   },
   "outputs": [
    {
     "name": "stdout",
     "output_type": "stream",
     "text": [
      "Index(['  userID', 'Track', 'artist', 'genre', '  City  ', 'time', 'Day'], dtype='object')\n"
     ]
    }
   ],
   "source": [
    "# перечень названий столбцов таблицы df\n",
    "print(df.columns)"
   ]
  },
  {
   "cell_type": "markdown",
   "metadata": {
    "deletable": false,
    "editable": false,
    "id": "zj5534cv_Zct",
    "tags": [
     "start_task"
    ]
   },
   "source": [
    "**Задание 7**\n",
    "\n",
    "\n",
    "Приведите названия в соответствие с хорошим стилем:\n",
    "* несколько слов в названии запишите в «змеином_регистре»,\n",
    "* все символы сделайте строчными,\n",
    "* устраните пробелы.\n",
    "\n",
    "Для этого переименуйте колонки так:\n",
    "* `'  userID'` → `'user_id'`;\n",
    "* `'Track'` → `'track'`;\n",
    "* `'  City  '` → `'city'`;\n",
    "* `'Day'` → `'day'`."
   ]
  },
  {
   "cell_type": "code",
   "execution_count": 522,
   "metadata": {
    "deletable": false,
    "id": "ISlFqs5y_Zct"
   },
   "outputs": [],
   "source": [
    "# переименование столбцов\n",
    "df = df.rename(columns={'  userID':'user_id', 'Track':'track', '  City  ':'city', 'Day':'day'})"
   ]
  },
  {
   "cell_type": "markdown",
   "metadata": {
    "deletable": false,
    "editable": false,
    "id": "1dqbh00J_Zct",
    "tags": [
     "start_task"
    ]
   },
   "source": [
    "**Задание 8**\n",
    "\n",
    "\n",
    "Проверьте результат. Для этого ещё раз выведите на экран названия столбцов:"
   ]
  },
  {
   "cell_type": "code",
   "execution_count": 523,
   "metadata": {
    "deletable": false,
    "id": "d4NOAmTW_Zct"
   },
   "outputs": [
    {
     "name": "stdout",
     "output_type": "stream",
     "text": [
      "Index(['user_id', 'track', 'artist', 'genre', 'city', 'time', 'day'], dtype='object')\n"
     ]
    }
   ],
   "source": [
    "# проверка результатов - перечень названий столбцов\n",
    "print(df.columns)"
   ]
  },
  {
   "cell_type": "markdown",
   "metadata": {
    "deletable": false,
    "editable": false,
    "id": "5ISfbcfY_Zct",
    "tags": [
     "start_task"
    ]
   },
   "source": [
    "### Пропуски значений\n",
    "\n",
    "**Задание 9**\n",
    "\n",
    "Сначала посчитайте, сколько в таблице пропущенных значений. Для этого достаточно двух методов `pandas`:"
   ]
  },
  {
   "cell_type": "code",
   "execution_count": 524,
   "metadata": {
    "deletable": false,
    "id": "RskX29qr_Zct"
   },
   "outputs": [
    {
     "data": {
      "text/plain": [
       "user_id       0\n",
       "track      1231\n",
       "artist     7203\n",
       "genre      1198\n",
       "city          0\n",
       "time          0\n",
       "day           0\n",
       "dtype: int64"
      ]
     },
     "execution_count": 524,
     "metadata": {},
     "output_type": "execute_result"
    }
   ],
   "source": [
    "# подсчёт пропусков\n",
    "df.isna().sum()"
   ]
  },
  {
   "cell_type": "markdown",
   "metadata": {
    "deletable": false,
    "editable": false,
    "id": "qubhgnlO_Zct"
   },
   "source": [
    "Не все пропущенные значения влияют на исследование. Так в `track` и `artist` пропуски не важны для вашей работы. Достаточно заменить их явными обозначениями.\n",
    "\n",
    "Но пропуски в `genre` могут помешать сравнению музыкальных вкусов в Москве и Санкт-Петербурге. На практике было бы правильно установить причину пропусков и восстановить данные. Такой возможности нет в учебном проекте. Придётся:\n",
    "* заполнить и эти пропуски явными обозначениями;\n",
    "* оценить, насколько они повредят расчётам. "
   ]
  },
  {
   "cell_type": "markdown",
   "metadata": {
    "deletable": false,
    "editable": false,
    "id": "fSv2laPA_Zct",
    "tags": [
     "start_task"
    ]
   },
   "source": [
    "**Задание 10**\n",
    "\n",
    "Замените пропущенные значения в столбцах `track`, `artist` и `genre` на строку `'unknown'`. Для этого создайте список `columns_to_replace`, переберите его элементы циклом `for` и для каждого столбца выполните замену пропущенных значений:"
   ]
  },
  {
   "cell_type": "code",
   "execution_count": 525,
   "metadata": {
    "deletable": false,
    "id": "KplB5qWs_Zct"
   },
   "outputs": [],
   "source": [
    "# перебор названий столбцов в цикле и замена пропущенных значений на 'unknown'\n",
    "columns_to_replace = ['track', 'artist', 'genre']\n",
    "for col in columns_to_replace:\n",
    "    df[col] = df[col].fillna('unknown')"
   ]
  },
  {
   "cell_type": "markdown",
   "metadata": {
    "deletable": false,
    "editable": false,
    "id": "Ilsm-MZo_Zct",
    "tags": [
     "start_task"
    ]
   },
   "source": [
    "**Задание 11**\n",
    "\n",
    "Убедитесь, что в таблице не осталось пропусков. Для этого ещё раз посчитайте пропущенные значения."
   ]
  },
  {
   "cell_type": "code",
   "execution_count": 526,
   "metadata": {
    "deletable": false,
    "id": "Tq4nYRX4_Zct"
   },
   "outputs": [
    {
     "data": {
      "text/plain": [
       "user_id    0\n",
       "track      0\n",
       "artist     0\n",
       "genre      0\n",
       "city       0\n",
       "time       0\n",
       "day        0\n",
       "dtype: int64"
      ]
     },
     "execution_count": 526,
     "metadata": {},
     "output_type": "execute_result"
    }
   ],
   "source": [
    "# подсчёт пропусков\n",
    "df.isna().sum()"
   ]
  },
  {
   "cell_type": "markdown",
   "metadata": {
    "deletable": false,
    "editable": false,
    "id": "BWKRtBJ3_Zct",
    "tags": [
     "start_task"
    ]
   },
   "source": [
    "### Дубликаты\n",
    "\n",
    "**Задание 12**\n",
    "\n",
    "Посчитайте явные дубликаты в таблице одной командой:"
   ]
  },
  {
   "cell_type": "code",
   "execution_count": 527,
   "metadata": {
    "deletable": false,
    "id": "36eES_S0_Zct"
   },
   "outputs": [
    {
     "data": {
      "text/plain": [
       "3826"
      ]
     },
     "execution_count": 527,
     "metadata": {},
     "output_type": "execute_result"
    }
   ],
   "source": [
    "# подсчёт явных дубликатов\n",
    "df.duplicated().sum()"
   ]
  },
  {
   "cell_type": "markdown",
   "metadata": {
    "deletable": false,
    "editable": false,
    "id": "Ot25h6XR_Zct",
    "tags": [
     "start_task"
    ]
   },
   "source": [
    "**Задание 13**\n",
    "\n",
    "Вызовите специальный метод `pandas`, чтобы удалить явные дубликаты:"
   ]
  },
  {
   "cell_type": "code",
   "execution_count": 528,
   "metadata": {
    "deletable": false,
    "id": "exFHq6tt_Zct"
   },
   "outputs": [],
   "source": [
    "# удаление явных дубликатов\n",
    "df = df.drop_duplicates()"
   ]
  },
  {
   "cell_type": "markdown",
   "metadata": {
    "deletable": false,
    "editable": false,
    "id": "Im2YwBEG_Zct",
    "tags": [
     "start_task"
    ]
   },
   "source": [
    "**Задание 14**\n",
    "\n",
    "Ещё раз посчитайте явные дубликаты в таблице — убедитесь, что полностью от них избавились:"
   ]
  },
  {
   "cell_type": "code",
   "execution_count": 529,
   "metadata": {
    "deletable": false,
    "id": "-8PuNWQ0_Zct"
   },
   "outputs": [
    {
     "data": {
      "text/plain": [
       "0"
      ]
     },
     "execution_count": 529,
     "metadata": {},
     "output_type": "execute_result"
    }
   ],
   "source": [
    "# проверка на отсутствие дубликатов\n",
    "df.duplicated().sum()"
   ]
  },
  {
   "cell_type": "markdown",
   "metadata": {
    "deletable": false,
    "editable": false,
    "id": "QlFBsxAr_Zct"
   },
   "source": [
    "Теперь избавьтесь от неявных дубликатов в колонке `genre`. Например, название одного и того же жанра может быть записано немного по-разному. Такие ошибки тоже повлияют на результат исследования."
   ]
  },
  {
   "cell_type": "markdown",
   "metadata": {
    "deletable": false,
    "editable": false,
    "id": "eSjWwsOh_Zct",
    "tags": [
     "start_task"
    ]
   },
   "source": [
    "**Задание 15**\n",
    "\n",
    "Выведите на экран список уникальных названий жанров, отсортированный в алфавитном порядке. Для этого:\n",
    "1. извлеките нужный столбец датафрейма; \n",
    "2. примените к нему метод сортировки;\n",
    "3. для отсортированного столбца вызовите метод, который вернёт уникальные значения из столбца."
   ]
  },
  {
   "cell_type": "code",
   "execution_count": 558,
   "metadata": {
    "deletable": false,
    "id": "JIUcqzZN_Zct"
   },
   "outputs": [
    {
     "data": {
      "text/plain": [
       "array(['acid', 'acoustic', 'action', 'adult', 'africa', 'afrikaans',\n",
       "       'alternative', 'alternativepunk', 'ambient', 'americana',\n",
       "       'animated', 'anime', 'arabesk', 'arabic', 'arena',\n",
       "       'argentinetango', 'art', 'audiobook', 'author', 'avantgarde',\n",
       "       'axé', 'baile', 'balkan', 'beats', 'bigroom', 'black', 'bluegrass',\n",
       "       'blues', 'bollywood', 'bossa', 'brazilian', 'breakbeat', 'breaks',\n",
       "       'broadway', 'cantautori', 'cantopop', 'canzone', 'caribbean',\n",
       "       'caucasian', 'celtic', 'chamber', 'chanson', 'children', 'chill',\n",
       "       'chinese', 'choral', 'christian', 'christmas', 'classical',\n",
       "       'classicmetal', 'club', 'colombian', 'comedy', 'conjazz',\n",
       "       'contemporary', 'country', 'cuban', 'dance', 'dancehall',\n",
       "       'dancepop', 'dark', 'death', 'deep', 'deutschrock', 'deutschspr',\n",
       "       'dirty', 'disco', 'dnb', 'documentary', 'downbeat', 'downtempo',\n",
       "       'drum', 'dub', 'dubstep', 'eastern', 'easy', 'electronic',\n",
       "       'electropop', 'emo', 'entehno', 'epicmetal', 'estrada', 'ethnic',\n",
       "       'eurofolk', 'european', 'experimental', 'extrememetal', 'fado',\n",
       "       'fairytail', 'film', 'fitness', 'flamenco', 'folk', 'folklore',\n",
       "       'folkmetal', 'folkrock', 'folktronica', 'forró', 'frankreich',\n",
       "       'französisch', 'french', 'funk', 'future', 'gangsta', 'garage',\n",
       "       'german', 'ghazal', 'gitarre', 'glitch', 'gospel', 'gothic',\n",
       "       'grime', 'grunge', 'gypsy', 'handsup', \"hard'n'heavy\", 'hardcore',\n",
       "       'hardstyle', 'hardtechno', 'hiphop', 'historisch', 'holiday',\n",
       "       'horror', 'house', 'hymn', 'idm', 'independent', 'indian', 'indie',\n",
       "       'indipop', 'industrial', 'inspirational', 'instrumental',\n",
       "       'international', 'irish', 'jam', 'japanese', 'jazz', 'jewish',\n",
       "       'jpop', 'jungle', 'k-pop', 'karadeniz', 'karaoke', 'kayokyoku',\n",
       "       'korean', 'laiko', 'latin', 'latino', 'leftfield', 'local',\n",
       "       'lounge', 'loungeelectronic', 'lovers', 'malaysian', 'mandopop',\n",
       "       'marschmusik', 'meditative', 'mediterranean', 'melodic', 'metal',\n",
       "       'metalcore', 'mexican', 'middle', 'minimal', 'miscellaneous',\n",
       "       'modern', 'mood', 'mpb', 'muslim', 'native', 'neoklassik', 'neue',\n",
       "       'new', 'newage', 'newwave', 'nu', 'nujazz', 'numetal', 'oceania',\n",
       "       'old', 'opera', 'orchestral', 'other', 'piano', 'podcasts', 'pop',\n",
       "       'popdance', 'popelectronic', 'popeurodance', 'poprussian', 'post',\n",
       "       'posthardcore', 'postrock', 'power', 'progmetal', 'progressive',\n",
       "       'psychedelic', 'punjabi', 'punk', 'quebecois', 'ragga', 'ram',\n",
       "       'rancheras', 'rap', 'rave', 'reggae', 'reggaeton', 'regional',\n",
       "       'relax', 'religious', 'retro', 'rhythm', 'rnb', 'rnr', 'rock',\n",
       "       'rockabilly', 'rockalternative', 'rockindie', 'rockother',\n",
       "       'romance', 'roots', 'ruspop', 'rusrap', 'rusrock', 'russian',\n",
       "       'salsa', 'samba', 'scenic', 'schlager', 'self', 'sertanejo',\n",
       "       'shanson', 'shoegazing', 'showtunes', 'singer', 'ska', 'skarock',\n",
       "       'slow', 'smooth', 'soft', 'soul', 'soulful', 'sound', 'soundtrack',\n",
       "       'southern', 'specialty', 'speech', 'spiritual', 'sport',\n",
       "       'stonerrock', 'surf', 'swing', 'synthpop', 'synthrock',\n",
       "       'sängerportrait', 'tango', 'tanzorchester', 'taraftar', 'tatar',\n",
       "       'tech', 'techno', 'teen', 'thrash', 'top', 'traditional',\n",
       "       'tradjazz', 'trance', 'tribal', 'trip', 'triphop', 'tropical',\n",
       "       'türk', 'türkçe', 'ukrrock', 'unknown', 'urban', 'uzbek',\n",
       "       'variété', 'vi', 'videogame', 'vocal', 'western', 'world',\n",
       "       'worldbeat', 'ïîï', 'электроника'], dtype=object)"
      ]
     },
     "metadata": {},
     "output_type": "display_data"
    }
   ],
   "source": [
    "# Просмотр уникальных названий жанров\n",
    "df_sorted = df['genre'].sort_values()\n",
    "df_sorted.unique()"
   ]
  },
  {
   "cell_type": "markdown",
   "metadata": {
    "deletable": false,
    "editable": false,
    "id": "qej-Qmuo_Zct",
    "tags": [
     "start_task"
    ]
   },
   "source": [
    "**Задание 16**\n",
    "\n",
    "Просмотрите список и найдите неявные дубликаты названия `hiphop`. Это могут быть названия с ошибками или альтернативные названия того же жанра.\n",
    "\n",
    "Вы увидите следующие неявные дубликаты:\n",
    "* *hip*,\n",
    "* *hop*,\n",
    "* *hip-hop*.\n",
    "\n",
    "Чтобы очистить от них таблицу используйте метод `replace()` с двумя аргументами: списком строк-дубликатов (включащий *hip*, *hop* и *hip-hop*) и строкой с правильным значением. Вам нужно исправить колонку `genre` в таблице `df`: заменить каждое значение из списка дубликатов на верное. Вместо `hip`, `hop` и `hip-hop` в таблице должно быть значение `hiphop`:"
   ]
  },
  {
   "cell_type": "code",
   "execution_count": 531,
   "metadata": {
    "deletable": false,
    "id": "ErNDkmns_Zct"
   },
   "outputs": [],
   "source": [
    "# Устранение неявных дубликатов\n",
    "genres_to_replace = ['hip','hop','hip-hop']\n",
    "df['genre'] = df['genre'].replace(genres_to_replace, 'hiphop')"
   ]
  },
  {
   "cell_type": "markdown",
   "metadata": {
    "deletable": false,
    "editable": false,
    "id": "zQKF16_RG15m",
    "tags": [
     "start_task"
    ]
   },
   "source": [
    "**Задание 17**\n",
    "\n",
    "Проверьте, что заменили неправильные названия:\n",
    "\n",
    "*   hip,\n",
    "*   hop,\n",
    "*   hip-hop.\n",
    "\n",
    "Выведите отсортированный список уникальных значений столбца `genre`:"
   ]
  },
  {
   "cell_type": "code",
   "execution_count": 532,
   "metadata": {
    "deletable": false,
    "id": "wvixALnFG15m"
   },
   "outputs": [
    {
     "data": {
      "text/plain": [
       "array(['acid', 'acoustic', 'action', 'adult', 'africa', 'afrikaans',\n",
       "       'alternative', 'alternativepunk', 'ambient', 'americana',\n",
       "       'animated', 'anime', 'arabesk', 'arabic', 'arena',\n",
       "       'argentinetango', 'art', 'audiobook', 'author', 'avantgarde',\n",
       "       'axé', 'baile', 'balkan', 'beats', 'bigroom', 'black', 'bluegrass',\n",
       "       'blues', 'bollywood', 'bossa', 'brazilian', 'breakbeat', 'breaks',\n",
       "       'broadway', 'cantautori', 'cantopop', 'canzone', 'caribbean',\n",
       "       'caucasian', 'celtic', 'chamber', 'chanson', 'children', 'chill',\n",
       "       'chinese', 'choral', 'christian', 'christmas', 'classical',\n",
       "       'classicmetal', 'club', 'colombian', 'comedy', 'conjazz',\n",
       "       'contemporary', 'country', 'cuban', 'dance', 'dancehall',\n",
       "       'dancepop', 'dark', 'death', 'deep', 'deutschrock', 'deutschspr',\n",
       "       'dirty', 'disco', 'dnb', 'documentary', 'downbeat', 'downtempo',\n",
       "       'drum', 'dub', 'dubstep', 'eastern', 'easy', 'electronic',\n",
       "       'electropop', 'emo', 'entehno', 'epicmetal', 'estrada', 'ethnic',\n",
       "       'eurofolk', 'european', 'experimental', 'extrememetal', 'fado',\n",
       "       'fairytail', 'film', 'fitness', 'flamenco', 'folk', 'folklore',\n",
       "       'folkmetal', 'folkrock', 'folktronica', 'forró', 'frankreich',\n",
       "       'französisch', 'french', 'funk', 'future', 'gangsta', 'garage',\n",
       "       'german', 'ghazal', 'gitarre', 'glitch', 'gospel', 'gothic',\n",
       "       'grime', 'grunge', 'gypsy', 'handsup', \"hard'n'heavy\", 'hardcore',\n",
       "       'hardstyle', 'hardtechno', 'hiphop', 'historisch', 'holiday',\n",
       "       'horror', 'house', 'hymn', 'idm', 'independent', 'indian', 'indie',\n",
       "       'indipop', 'industrial', 'inspirational', 'instrumental',\n",
       "       'international', 'irish', 'jam', 'japanese', 'jazz', 'jewish',\n",
       "       'jpop', 'jungle', 'k-pop', 'karadeniz', 'karaoke', 'kayokyoku',\n",
       "       'korean', 'laiko', 'latin', 'latino', 'leftfield', 'local',\n",
       "       'lounge', 'loungeelectronic', 'lovers', 'malaysian', 'mandopop',\n",
       "       'marschmusik', 'meditative', 'mediterranean', 'melodic', 'metal',\n",
       "       'metalcore', 'mexican', 'middle', 'minimal', 'miscellaneous',\n",
       "       'modern', 'mood', 'mpb', 'muslim', 'native', 'neoklassik', 'neue',\n",
       "       'new', 'newage', 'newwave', 'nu', 'nujazz', 'numetal', 'oceania',\n",
       "       'old', 'opera', 'orchestral', 'other', 'piano', 'podcasts', 'pop',\n",
       "       'popdance', 'popelectronic', 'popeurodance', 'poprussian', 'post',\n",
       "       'posthardcore', 'postrock', 'power', 'progmetal', 'progressive',\n",
       "       'psychedelic', 'punjabi', 'punk', 'quebecois', 'ragga', 'ram',\n",
       "       'rancheras', 'rap', 'rave', 'reggae', 'reggaeton', 'regional',\n",
       "       'relax', 'religious', 'retro', 'rhythm', 'rnb', 'rnr', 'rock',\n",
       "       'rockabilly', 'rockalternative', 'rockindie', 'rockother',\n",
       "       'romance', 'roots', 'ruspop', 'rusrap', 'rusrock', 'russian',\n",
       "       'salsa', 'samba', 'scenic', 'schlager', 'self', 'sertanejo',\n",
       "       'shanson', 'shoegazing', 'showtunes', 'singer', 'ska', 'skarock',\n",
       "       'slow', 'smooth', 'soft', 'soul', 'soulful', 'sound', 'soundtrack',\n",
       "       'southern', 'specialty', 'speech', 'spiritual', 'sport',\n",
       "       'stonerrock', 'surf', 'swing', 'synthpop', 'synthrock',\n",
       "       'sängerportrait', 'tango', 'tanzorchester', 'taraftar', 'tatar',\n",
       "       'tech', 'techno', 'teen', 'thrash', 'top', 'traditional',\n",
       "       'tradjazz', 'trance', 'tribal', 'trip', 'triphop', 'tropical',\n",
       "       'türk', 'türkçe', 'ukrrock', 'unknown', 'urban', 'uzbek',\n",
       "       'variété', 'vi', 'videogame', 'vocal', 'western', 'world',\n",
       "       'worldbeat', 'ïîï', 'электроника'], dtype=object)"
      ]
     },
     "execution_count": 532,
     "metadata": {},
     "output_type": "execute_result"
    }
   ],
   "source": [
    "df_sorted = df['genre'].sort_values()\n",
    "df_sorted.unique()"
   ]
  },
  {
   "cell_type": "markdown",
   "metadata": {
    "deletable": false,
    "editable": false,
    "id": "jz6a9-7HQUDd"
   },
   "source": [
    "**Выводы**\n",
    "\n",
    "Предобработка обнаружила три проблемы в данных:\n",
    "\n",
    "- нарушения в стиле заголовков,\n",
    "- пропущенные значения,\n",
    "- дубликаты — явные и неявные.\n",
    "\n",
    "Вы исправили заголовки, чтобы упростить работу с таблицей. Без дубликатов исследование станет более точным.\n",
    "\n",
    "Пропущенные значения вы заменили на `'unknown'`. Ещё предстоит увидеть, не повредят ли исследованию пропуски в колонке `genre`.\n",
    "\n",
    "Теперь можно перейти к проверке гипотез. "
   ]
  },
  {
   "cell_type": "markdown",
   "metadata": {
    "deletable": false,
    "editable": false,
    "id": "WttZHXH0SqKk"
   },
   "source": [
    "## Проверка гипотез"
   ]
  },
  {
   "cell_type": "markdown",
   "metadata": {
    "deletable": false,
    "editable": false,
    "id": "Im936VVi_Zcu"
   },
   "source": [
    "### Сравнение поведения пользователей двух столиц"
   ]
  },
  {
   "cell_type": "markdown",
   "metadata": {
    "deletable": false,
    "editable": false,
    "id": "nwt_MuaL_Zcu"
   },
   "source": [
    "Первая гипотеза утверждает, что пользователи по-разному слушают музыку в Москве и Санкт-Петербурге. Проверьте это предположение по данным о трёх днях недели — понедельнике, среде и пятнице. Для этого:\n",
    "\n",
    "* Разделите пользователей Москвы и Санкт-Петербурга.\n",
    "* Сравните, сколько треков послушала каждая группа пользователей в понедельник, среду и пятницу.\n"
   ]
  },
  {
   "cell_type": "markdown",
   "metadata": {
    "deletable": false,
    "editable": false,
    "id": "8Dw_YMmT_Zcu",
    "tags": [
     "start_task"
    ]
   },
   "source": [
    "**Задание 18**\n",
    "\n",
    "Для тренировки сначала выполните каждый из расчётов по отдельности. \n",
    "\n",
    "Оцените активность пользователей в каждом городе. Сгруппируйте данные по городу и посчитайте прослушивания в каждой группе.\n",
    "\n"
   ]
  },
  {
   "cell_type": "code",
   "execution_count": 533,
   "metadata": {
    "deletable": false,
    "id": "0_Qs96oh_Zcu"
   },
   "outputs": [
    {
     "data": {
      "text/plain": [
       "city\n",
       "Moscow              42741\n",
       "Saint-Petersburg    18512\n",
       "Name: track, dtype: int64"
      ]
     },
     "execution_count": 533,
     "metadata": {},
     "output_type": "execute_result"
    }
   ],
   "source": [
    "# Подсчёт прослушиваний в каждом городе\n",
    "df.groupby('city')['track'].count()"
   ]
  },
  {
   "cell_type": "markdown",
   "metadata": {
    "deletable": false,
    "editable": false,
    "id": "dzli3w8o_Zcu",
    "tags": [
     "start_task"
    ]
   },
   "source": [
    "В Москве прослушиваний больше, чем в Петербурге. Из этого не следует, что московские пользователи чаще слушают музыку. Просто самих пользователей в Москве больше.\n",
    "\n",
    "**Задание 19**\n",
    "\n",
    "Теперь сгруппируйте данные по дню недели и посчитайте прослушивания в понедельник, среду и пятницу. Учтите, что в данных есть информация о прослушиваниях только за эти дни.\n"
   ]
  },
  {
   "cell_type": "code",
   "execution_count": 534,
   "metadata": {
    "deletable": false,
    "id": "uZMKjiJz_Zcu"
   },
   "outputs": [
    {
     "data": {
      "text/plain": [
       "day\n",
       "Friday       21840\n",
       "Monday       21354\n",
       "Wednesday    18059\n",
       "Name: track, dtype: int64"
      ]
     },
     "execution_count": 534,
     "metadata": {},
     "output_type": "execute_result"
    }
   ],
   "source": [
    "# Подсчёт прослушиваний в каждый из трёх дней\n",
    "df.groupby('day')['track'].count()"
   ]
  },
  {
   "cell_type": "markdown",
   "metadata": {
    "deletable": false,
    "editable": false,
    "id": "cC2tNrlL_Zcu"
   },
   "source": [
    "В среднем пользователи из двух городов менее активны по средам. Но картина может измениться, если рассмотреть каждый город в отдельности."
   ]
  },
  {
   "cell_type": "markdown",
   "metadata": {
    "deletable": false,
    "editable": false,
    "id": "POzs8bGa_Zcu",
    "tags": [
     "start_task"
    ]
   },
   "source": [
    "**Задание 20**\n",
    "\n",
    "\n",
    "Вы видели, как работает группировка по городу и по дням недели. Теперь напишите функцию, которая объединит два эти расчёта.\n",
    "\n",
    "Создайте функцию `number_tracks()`, которая посчитает прослушивания для заданного дня и города. Ей понадобятся два параметра:\n",
    "* день недели,\n",
    "* название города.\n",
    "\n",
    "В функции сохраните в переменную строки исходной таблицы, у которых значение:\n",
    "  * в колонке `day` равно параметру `day`,\n",
    "  * в колонке `city` равно параметру `city`.\n",
    "\n",
    "Для этого примените последовательную фильтрацию с логической индексацией (или сложные логические выражения в одну строку, если вы уже знакомы с ними).\n",
    "\n",
    "Затем посчитайте значения в столбце `user_id` получившейся таблицы. Результат сохраните в новую переменную. Верните эту переменную из функции."
   ]
  },
  {
   "cell_type": "code",
   "execution_count": 535,
   "metadata": {
    "deletable": false,
    "id": "Nz3GdQB1_Zcu"
   },
   "outputs": [],
   "source": [
    "# <создание функции number_tracks()>\n",
    "def number_tracks(day, city):\n",
    "    track_list = df[(df['day'] == day) & (df['city'] == city)]\n",
    "    track_list_count = track_list['user_id'].count()\n",
    "    return track_list_count\n",
    "# Объявляется функция с двумя параметрами: day, city.\n",
    "# В переменной track_list сохраняются те строки таблицы df, для которых \n",
    "# значение в столбце 'day' равно параметру day и одновременно значение\n",
    "# в столбце 'city' равно параметру city (используйте последовательную фильтрацию\n",
    "# с помощью логической индексации или сложные логические выражения в одну строку, если вы уже знакомы с ними).\n",
    "# В переменной track_list_count сохраняется число значений столбца 'user_id',\n",
    "# рассчитанное методом count() для таблицы track_list.\n",
    "# Функция возвращает число - значение track_list_count.\n",
    "\n",
    "# Функция для подсчёта прослушиваний для конкретного города и дня.\n",
    "# С помощью последовательной фильтрации с логической индексацией она \n",
    "# сначала получит из исходной таблицы строки с нужным днём,\n",
    "# затем из результата отфильтрует строки с нужным городом,\n",
    "# методом count() посчитает количество значений в колонке user_id. \n",
    "# Это количество функция вернёт в качестве результата"
   ]
  },
  {
   "cell_type": "markdown",
   "metadata": {
    "deletable": false,
    "editable": false,
    "id": "ytf7xFrFJQ2r",
    "tags": [
     "start_task"
    ]
   },
   "source": [
    "**Задание 21**\n",
    "\n",
    "Вызовите `number_tracks()` шесть раз, меняя значение параметров — так, чтобы получить данные для каждого города в каждый из трёх дней."
   ]
  },
  {
   "cell_type": "code",
   "execution_count": 536,
   "metadata": {
    "deletable": false,
    "id": "rJcRATNQ_Zcu",
    "scrolled": true
   },
   "outputs": [
    {
     "data": {
      "text/plain": [
       "15740"
      ]
     },
     "execution_count": 536,
     "metadata": {},
     "output_type": "execute_result"
    }
   ],
   "source": [
    "# количество прослушиваний в Москве по понедельникам\n",
    "number_tracks('Monday', 'Moscow')"
   ]
  },
  {
   "cell_type": "code",
   "execution_count": 537,
   "metadata": {
    "deletable": false,
    "id": "hq_ncZ5T_Zcu"
   },
   "outputs": [
    {
     "data": {
      "text/plain": [
       "5614"
      ]
     },
     "execution_count": 537,
     "metadata": {},
     "output_type": "execute_result"
    }
   ],
   "source": [
    "# количество прослушиваний в Санкт-Петербурге по понедельникам\n",
    "number_tracks('Monday', 'Saint-Petersburg')"
   ]
  },
  {
   "cell_type": "code",
   "execution_count": 538,
   "metadata": {
    "deletable": false,
    "id": "_NTy2VPU_Zcu"
   },
   "outputs": [
    {
     "data": {
      "text/plain": [
       "11056"
      ]
     },
     "execution_count": 538,
     "metadata": {},
     "output_type": "execute_result"
    }
   ],
   "source": [
    "# количество прослушиваний в Москве по средам\n",
    "number_tracks('Wednesday', 'Moscow')"
   ]
  },
  {
   "cell_type": "code",
   "execution_count": 539,
   "metadata": {
    "deletable": false,
    "id": "j2y3TAwo_Zcu"
   },
   "outputs": [
    {
     "data": {
      "text/plain": [
       "7003"
      ]
     },
     "execution_count": 539,
     "metadata": {},
     "output_type": "execute_result"
    }
   ],
   "source": [
    "# количество прослушиваний в Санкт-Петербурге по средам\n",
    "number_tracks('Wednesday', 'Saint-Petersburg')"
   ]
  },
  {
   "cell_type": "code",
   "execution_count": 540,
   "metadata": {
    "deletable": false,
    "id": "vYDw5u_K_Zcu"
   },
   "outputs": [
    {
     "data": {
      "text/plain": [
       "15945"
      ]
     },
     "execution_count": 540,
     "metadata": {},
     "output_type": "execute_result"
    }
   ],
   "source": [
    "# количество прослушиваний в Москве по пятницам\n",
    "number_tracks('Friday', 'Moscow')"
   ]
  },
  {
   "cell_type": "code",
   "execution_count": 541,
   "metadata": {
    "deletable": false,
    "id": "8_yzFtW3_Zcu"
   },
   "outputs": [
    {
     "data": {
      "text/plain": [
       "5895"
      ]
     },
     "execution_count": 541,
     "metadata": {},
     "output_type": "execute_result"
    }
   ],
   "source": [
    "# количество прослушиваний в Санкт-Петербурге по пятницам\n",
    "number_tracks('Friday', 'Saint-Petersburg')"
   ]
  },
  {
   "cell_type": "markdown",
   "metadata": {
    "deletable": false,
    "editable": false,
    "id": "7QXffbO-_Zcu",
    "tags": [
     "start_task"
    ]
   },
   "source": [
    "**Задание 22**\n",
    "\n",
    "Создайте c помощью конструктора `pd.DataFrame` таблицу, где\n",
    "* названия колонок — `['city', 'monday', 'wednesday', 'friday']`;\n",
    "* данные — результаты, которые вы получили с помощью `number_tracks`."
   ]
  },
  {
   "cell_type": "code",
   "execution_count": 542,
   "metadata": {
    "deletable": false,
    "id": "APAcLpOr_Zcu"
   },
   "outputs": [
    {
     "data": {
      "text/html": [
       "<div>\n",
       "<style scoped>\n",
       "    .dataframe tbody tr th:only-of-type {\n",
       "        vertical-align: middle;\n",
       "    }\n",
       "\n",
       "    .dataframe tbody tr th {\n",
       "        vertical-align: top;\n",
       "    }\n",
       "\n",
       "    .dataframe thead th {\n",
       "        text-align: right;\n",
       "    }\n",
       "</style>\n",
       "<table border=\"1\" class=\"dataframe\">\n",
       "  <thead>\n",
       "    <tr style=\"text-align: right;\">\n",
       "      <th></th>\n",
       "      <th>city</th>\n",
       "      <th>monday</th>\n",
       "      <th>wednesday</th>\n",
       "      <th>friday</th>\n",
       "    </tr>\n",
       "  </thead>\n",
       "  <tbody>\n",
       "    <tr>\n",
       "      <th>0</th>\n",
       "      <td>Москва</td>\n",
       "      <td>15740</td>\n",
       "      <td>11056</td>\n",
       "      <td>15945</td>\n",
       "    </tr>\n",
       "    <tr>\n",
       "      <th>1</th>\n",
       "      <td>Санкт-Петербург</td>\n",
       "      <td>5614</td>\n",
       "      <td>7003</td>\n",
       "      <td>5895</td>\n",
       "    </tr>\n",
       "  </tbody>\n",
       "</table>\n",
       "</div>"
      ],
      "text/plain": [
       "              city monday wednesday friday\n",
       "0           Москва  15740     11056  15945\n",
       "1  Санкт-Петербург   5614      7003   5895"
      ]
     },
     "execution_count": 542,
     "metadata": {},
     "output_type": "execute_result"
    }
   ],
   "source": [
    "# Таблица с результатами\n",
    "columns = ['city', 'monday', 'wednesday', 'friday']\n",
    "data = [\n",
    "    ['Москва', '15740', '11056', '15945'],\n",
    "    ['Санкт-Петербург', '5614', '7003', '5895']\n",
    "    \n",
    "]\n",
    "pd.DataFrame(data=data, columns = columns)"
   ]
  },
  {
   "cell_type": "markdown",
   "metadata": {
    "deletable": false,
    "editable": false,
    "id": "-EgPIHYu_Zcu"
   },
   "source": [
    "**Выводы**\n",
    "\n",
    "Данные показывают разницу поведения пользователей:\n",
    "\n",
    "- В Москве пик прослушиваний приходится на понедельник и пятницу, а в среду заметен спад.\n",
    "- В Петербурге, наоборот, больше слушают музыку по средам. Активность в понедельник и пятницу здесь почти в равной мере уступает среде.\n",
    "\n",
    "Значит, данные говорят в пользу первой гипотезы."
   ]
  },
  {
   "cell_type": "markdown",
   "metadata": {
    "deletable": false,
    "editable": false,
    "id": "atZAxtq4_Zcu"
   },
   "source": [
    "### Музыка в начале и в конце недели"
   ]
  },
  {
   "cell_type": "markdown",
   "metadata": {
    "deletable": false,
    "editable": false,
    "id": "eXrQqXFH_Zcu"
   },
   "source": [
    "Согласно второй гипотезе, утром в понедельник в Москве преобладают одни жанры, а в Петербурге — другие. Так же и вечером пятницы преобладают разные жанры — в зависимости от города."
   ]
  },
  {
   "cell_type": "markdown",
   "metadata": {
    "deletable": false,
    "editable": false,
    "id": "S8UcW6Hw_Zcu",
    "tags": [
     "start_task"
    ]
   },
   "source": [
    "**Задание 23**\n",
    "\n",
    "Сохраните таблицы с данными в две переменные:\n",
    "* по Москве — в `moscow_general`;\n",
    "* по Санкт-Петербургу — в `spb_general`."
   ]
  },
  {
   "cell_type": "code",
   "execution_count": 543,
   "metadata": {
    "deletable": false,
    "id": "qeaFfM_P_Zcu"
   },
   "outputs": [],
   "source": [
    "# получение таблицы moscow_general из тех строк таблицы df, \n",
    "# для которых значение в столбце 'city' равно 'Moscow'\n",
    "moscow_general = df[df['city'] == 'Moscow']"
   ]
  },
  {
   "cell_type": "code",
   "execution_count": 544,
   "metadata": {
    "deletable": false,
    "id": "ORaVRKto_Zcu"
   },
   "outputs": [],
   "source": [
    "# получение таблицы spb_general из тех строк таблицы df,\n",
    "# для которых значение в столбце 'city' равно 'Saint-Petersburg'\n",
    "spb_general = df[df['city'] == 'Saint-Petersburg']"
   ]
  },
  {
   "cell_type": "markdown",
   "metadata": {
    "deletable": false,
    "editable": false,
    "id": "MEJV-CX2_Zcu",
    "tags": [
     "start_task"
    ]
   },
   "source": [
    "**Задание 24**\n",
    "\n",
    "Создайте функцию `genre_weekday()` с четырьмя параметрами:\n",
    "* таблица (датафрейм) с данными,\n",
    "* день недели,\n",
    "* начальная временная метка в формате 'hh:mm', \n",
    "* последняя временная метка в формате 'hh:mm'.\n",
    "\n",
    "Функция должна вернуть информацию о топ-10 жанров тех треков, которые прослушивали в указанный день, в промежутке между двумя отметками времени."
   ]
  },
  {
   "cell_type": "code",
   "execution_count": 545,
   "metadata": {
    "deletable": false,
    "id": "laJT9BYl_Zcu"
   },
   "outputs": [],
   "source": [
    "# Объявление функции genre_weekday() с параметрами table, day, time1, time2,\n",
    "# которая возвращает информацию о самых популярных жанрах в указанный день в\n",
    "# заданное время:\n",
    "# 1) в переменную genre_df сохраняются те строки переданного датафрейма table, для\n",
    "#    которых одновременно:\n",
    "#    - значение в столбце day равно значению аргумента day\n",
    "#    - значение в столбце time больше значения аргумента time1\n",
    "#    - значение в столбце time меньше значения аргумента time2\n",
    "#    Используйте последовательную фильтрацию с помощью логической индексации.\n",
    "# 2) сгруппировать датафрейм genre_df по столбцу genre, взять один из его\n",
    "#    столбцов и посчитать методом count() количество записей для каждого из\n",
    "#    присутствующих жанров, получившийся Series записать в переменную\n",
    "#    genre_df_count\n",
    "# 3) отсортировать genre_df_count по убыванию встречаемости и сохранить\n",
    "#    в переменную genre_df_sorted\n",
    "# 4) вернуть Series из 10 первых значений genre_df_sorted, это будут топ-10\n",
    "#    популярных жанров (в указанный день, в заданное время)\n",
    "\n",
    "def genre_weekday(df, day, time1, time2):\n",
    "    # последовательная фильтрация\n",
    "    # оставляем в genre_df только те строки df, у которых день равен day\n",
    "    genre_df = df[df['day'] == day]\n",
    "    # ваш код здесь\n",
    "    # оставляем в genre_df только те строки genre_df, у которых время меньше time2\n",
    "    genre_df = genre_df[genre_df['time'] < time2]\n",
    "    # ваш код здесь\n",
    "    # оставляем в genre_df только те строки genre_df, у которых время больше time1\n",
    "    genre_df = genre_df[genre_df['time'] > time1]\n",
    "    # ваш код здесь\n",
    "    # сгруппируем отфильтрованный датафрейм по столбцу с названиями жанров, возьмём столбец genre и посчитаем кол-во строк для каждого жанра методом count()\n",
    "    genre_df_grouped = genre_df.groupby('genre')['genre'].count()\n",
    "    # ваш код здесь\n",
    "    # отсортируем результат по убыванию (чтобы в начале Series оказались самые популярные жанры)\n",
    "    genre_df_sorted = genre_df_grouped.sort_values(ascending=False)\n",
    "    # ваш код здесь\n",
    "    # вернём Series с 10 самыми популярными жанрами в указанный отрезок времени заданного дня\n",
    "    return genre_df_sorted[:10]"
   ]
  },
  {
   "cell_type": "markdown",
   "metadata": {
    "deletable": false,
    "editable": false,
    "id": "la2s2_PF_Zcu",
    "tags": [
     "start_task"
    ]
   },
   "source": [
    "**Задание 25**\n",
    "\n",
    "\n",
    "Cравните результаты функции `genre_weekday()` для Москвы и Санкт-Петербурга в понедельник утром (с 7:00 до 11:00) и в пятницу вечером (с 17:00 до 23:00):"
   ]
  },
  {
   "cell_type": "code",
   "execution_count": 546,
   "metadata": {
    "deletable": false,
    "id": "yz7itPUQ_Zcu"
   },
   "outputs": [
    {
     "data": {
      "text/plain": [
       "genre\n",
       "pop            781\n",
       "dance          549\n",
       "electronic     480\n",
       "rock           474\n",
       "hiphop         286\n",
       "ruspop         186\n",
       "world          181\n",
       "rusrap         175\n",
       "alternative    164\n",
       "unknown        161\n",
       "Name: genre, dtype: int64"
      ]
     },
     "execution_count": 546,
     "metadata": {},
     "output_type": "execute_result"
    }
   ],
   "source": [
    "# вызов функции для утра понедельника в Москве (вместо df — таблица moscow_general)\n",
    "# объекты, хранящие время, являются строками и сравниваются как строки\n",
    "# пример вызова: genre_weekday(moscow_general, 'Monday', '07:00', '11:00')\n",
    "genre_weekday(moscow_general, 'Monday', '07:00', '11:00')"
   ]
  },
  {
   "cell_type": "code",
   "execution_count": 547,
   "metadata": {
    "deletable": false,
    "id": "kwUcHPdy_Zcu"
   },
   "outputs": [
    {
     "data": {
      "text/plain": [
       "genre\n",
       "pop            218\n",
       "dance          182\n",
       "rock           162\n",
       "electronic     147\n",
       "hiphop          80\n",
       "ruspop          64\n",
       "alternative     58\n",
       "rusrap          55\n",
       "jazz            44\n",
       "classical       40\n",
       "Name: genre, dtype: int64"
      ]
     },
     "execution_count": 547,
     "metadata": {},
     "output_type": "execute_result"
    }
   ],
   "source": [
    "# вызов функции для утра понедельника в Петербурге (вместо df — таблица spb_general)\n",
    "genre_weekday(spb_general, 'Monday', '07:00', '11:00')"
   ]
  },
  {
   "cell_type": "code",
   "execution_count": 548,
   "metadata": {
    "deletable": false,
    "id": "EzXVRE1o_Zcu"
   },
   "outputs": [
    {
     "data": {
      "text/plain": [
       "genre\n",
       "pop            713\n",
       "rock           517\n",
       "dance          495\n",
       "electronic     482\n",
       "hiphop         273\n",
       "world          208\n",
       "ruspop         170\n",
       "alternative    163\n",
       "classical      163\n",
       "rusrap         142\n",
       "Name: genre, dtype: int64"
      ]
     },
     "execution_count": 548,
     "metadata": {},
     "output_type": "execute_result"
    }
   ],
   "source": [
    "# вызов функции для вечера пятницы в Москве\n",
    "genre_weekday(moscow_general, 'Friday', '17:00', '23:00')"
   ]
  },
  {
   "cell_type": "code",
   "execution_count": 549,
   "metadata": {
    "deletable": false,
    "id": "JZaEKu5v_Zcu"
   },
   "outputs": [
    {
     "data": {
      "text/plain": [
       "genre\n",
       "pop            256\n",
       "electronic     216\n",
       "rock           216\n",
       "dance          210\n",
       "hiphop          97\n",
       "alternative     63\n",
       "jazz            61\n",
       "classical       60\n",
       "rusrap          59\n",
       "world           54\n",
       "Name: genre, dtype: int64"
      ]
     },
     "execution_count": 549,
     "metadata": {},
     "output_type": "execute_result"
    }
   ],
   "source": [
    "# вызов функции для вечера пятницы в Петербурге\n",
    "genre_weekday(spb_general, 'Friday', '17:00', '23:00')"
   ]
  },
  {
   "cell_type": "markdown",
   "metadata": {
    "deletable": false,
    "editable": false,
    "id": "wrCe4MNX_Zcu"
   },
   "source": [
    "**Выводы**\n",
    "\n",
    "Если сравнить топ-10 жанров в понедельник утром, можно сделать такие выводы:\n",
    "\n",
    "1. В Москве и Петербурге слушают похожую музыку. Единственное отличие — в московский рейтинг вошёл жанр “world”, а в петербургский — джаз и классика.\n",
    "\n",
    "2. В Москве пропущенных значений оказалось так много, что значение `'unknown'` заняло десятое место среди самых популярных жанров. Значит, пропущенные значения занимают существенную долю в данных и угрожают достоверности исследования.\n",
    "\n",
    "Вечер пятницы не меняет эту картину. Некоторые жанры поднимаются немного выше, другие спускаются, но в целом топ-10 остаётся тем же самым.\n",
    "\n",
    "Таким образом, вторая гипотеза подтвердилась лишь частично:\n",
    "* Пользователи слушают похожую музыку в начале недели и в конце.\n",
    "* Разница между Москвой и Петербургом не слишком выражена. В Москве чаще слушают русскую популярную музыку, в Петербурге — джаз.\n",
    "\n",
    "Однако пропуски в данных ставят под сомнение этот результат. В Москве их так много, что рейтинг топ-10 мог бы выглядеть иначе, если бы не утерянные  данные о жанрах."
   ]
  },
  {
   "cell_type": "markdown",
   "metadata": {
    "deletable": false,
    "editable": false,
    "id": "JolODAqr_Zcu"
   },
   "source": [
    "### Жанровые предпочтения в Москве и Петербурге\n",
    "\n",
    "Гипотеза: Петербург — столица рэпа, музыку этого жанра там слушают чаще, чем в Москве.  А Москва — город контрастов, в котором, тем не менее, преобладает поп-музыка."
   ]
  },
  {
   "cell_type": "markdown",
   "metadata": {
    "deletable": false,
    "editable": false,
    "id": "DlegSvaT_Zcu",
    "tags": [
     "start_task"
    ]
   },
   "source": [
    "**Задание 26**\n",
    "\n",
    "Сгруппируйте таблицу `moscow_general` по жанру и посчитайте прослушивания треков каждого жанра методом `count()`. Затем отсортируйте результат в порядке убывания и сохраните его в таблице `moscow_genres`."
   ]
  },
  {
   "cell_type": "code",
   "execution_count": 550,
   "metadata": {
    "deletable": false,
    "id": "r19lIPke_Zcu"
   },
   "outputs": [],
   "source": [
    "# одной строкой: группировка таблицы moscow_general по столбцу 'genre', \n",
    "# подсчёт числа значений 'genre' в этой группировке методом count(), \n",
    "# сортировка получившегося Series в порядке убывания и сохранение в moscow_genres\n",
    "moscow_grouped = moscow_general.groupby('genre') ['genre'].count()\n",
    "moscow_genres = moscow_grouped.sort_values(ascending=False)"
   ]
  },
  {
   "cell_type": "markdown",
   "metadata": {
    "deletable": false,
    "editable": false,
    "id": "6kMuomxTiIr8",
    "tags": [
     "start_task"
    ]
   },
   "source": [
    "**Задание 27**\n",
    "\n",
    "Выведите на экран первые десять строк `moscow_genres`:"
   ]
  },
  {
   "cell_type": "code",
   "execution_count": 554,
   "metadata": {
    "deletable": false,
    "id": "WhCSooF8_Zcv"
   },
   "outputs": [
    {
     "data": {
      "text/plain": [
       "genre\n",
       "pop            5892\n",
       "dance          4435\n",
       "rock           3965\n",
       "electronic     3786\n",
       "hiphop         2096\n",
       "classical      1616\n",
       "world          1432\n",
       "alternative    1379\n",
       "ruspop         1372\n",
       "rusrap         1161\n",
       "Name: genre, dtype: int64"
      ]
     },
     "execution_count": 554,
     "metadata": {},
     "output_type": "execute_result"
    }
   ],
   "source": [
    "# просмотр первых 10 строк moscow_genres\n",
    "moscow_genres.head(10)"
   ]
  },
  {
   "cell_type": "markdown",
   "metadata": {
    "deletable": false,
    "editable": false,
    "id": "cnPG2vnN_Zcv",
    "tags": [
     "start_task"
    ]
   },
   "source": [
    "**Задание 28**\n",
    "\n",
    "\n",
    "Теперь повторите то же и для Петербурга.\n",
    "\n",
    "Сгруппируйте таблицу `spb_general` по жанру. Посчитайте прослушивания треков каждого жанра. Результат отсортируйте в порядке убывания и сохраните в таблице `spb_genres`:\n"
   ]
  },
  {
   "cell_type": "code",
   "execution_count": 556,
   "metadata": {
    "deletable": false,
    "id": "gluLIpE7_Zcv"
   },
   "outputs": [],
   "source": [
    "# одной строкой: группировка таблицы spb_general по столбцу 'genre', \n",
    "# подсчёт числа значений 'genre' в этой группировке методом count(), \n",
    "# сортировка получившегося Series в порядке убывания и сохранение в spb_genres\n",
    "spb_groupped = spb_general.groupby('genre') ['genre'].count()\n",
    "spb_genres = spb_groupped.sort_values(ascending=False)"
   ]
  },
  {
   "cell_type": "markdown",
   "metadata": {
    "deletable": false,
    "editable": false,
    "id": "5Doha_ODgyQ8",
    "tags": [
     "start_task"
    ]
   },
   "source": [
    "**Задание 29**\n",
    "\n",
    "Выведите на экран первые десять строк `spb_genres`:"
   ]
  },
  {
   "cell_type": "code",
   "execution_count": 557,
   "metadata": {
    "deletable": false,
    "id": "uaGJHjVU_Zcv"
   },
   "outputs": [
    {
     "data": {
      "text/plain": [
       "genre\n",
       "pop            2431\n",
       "dance          1932\n",
       "rock           1879\n",
       "electronic     1736\n",
       "hiphop          960\n",
       "alternative     649\n",
       "classical       646\n",
       "rusrap          564\n",
       "ruspop          538\n",
       "world           515\n",
       "Name: genre, dtype: int64"
      ]
     },
     "execution_count": 557,
     "metadata": {},
     "output_type": "execute_result"
    }
   ],
   "source": [
    "# просмотр первых 10 строк spb_genres\n",
    "spb_genres.head(10)"
   ]
  },
  {
   "cell_type": "markdown",
   "metadata": {
    "deletable": false,
    "editable": false,
    "id": "RY51YJYu_Zcv"
   },
   "source": [
    "**Выводы**"
   ]
  },
  {
   "cell_type": "markdown",
   "metadata": {
    "deletable": false,
    "editable": false,
    "id": "nVhnJEm__Zcv"
   },
   "source": [
    "Гипотеза частично подтвердилась:\n",
    "* Поп-музыка — самый популярный жанр в Москве, как и предполагала гипотеза. Более того, в топ-10 жанров встречается близкий жанр — русская популярная музыка.\n",
    "* Вопреки ожиданиям, рэп одинаково популярен в Москве и Петербурге. \n"
   ]
  },
  {
   "cell_type": "markdown",
   "metadata": {
    "deletable": false,
    "editable": false,
    "id": "ykKQ0N65_Zcv"
   },
   "source": [
    "## Итоги исследования"
   ]
  },
  {
   "cell_type": "markdown",
   "metadata": {
    "deletable": false,
    "editable": false,
    "id": "tjUwbHb3_Zcv"
   },
   "source": [
    "Вы проверили три гипотезы и установили:\n",
    "\n",
    "1. День недели по-разному влияет на активность пользователей в Москве и Петербурге. \n",
    "\n",
    "Первая гипотеза полностью подтвердилась.\n",
    "\n",
    "2. Музыкальные предпочтения не сильно меняются в течение недели — будь то Москва или Петербург. Небольшие различия заметны в начале недели, по понедельникам:\n",
    "* в Москве слушают музыку жанра “world”,\n",
    "* в Петербурге — джаз и классику.\n",
    "\n",
    "Таким образом, вторая гипотеза подтвердилась лишь отчасти. Этот результат мог оказаться иным, если бы не пропуски в данных.\n",
    "\n",
    "3. Во вкусах пользователей Москвы и Петербурга больше общего чем различий. Вопреки ожиданиям, предпочтения жанров в Петербурге напоминают московские.\n",
    "\n",
    "Третья гипотеза не подтвердилась. Если различия в предпочтениях и существуют, на основной массе пользователей они незаметны.\n",
    "\n",
    "**На практике исследования содержат проверки статистических гипотез.**\n",
    "Из данных одного сервиса не всегда можно сделать вывод о всех жителях города.\n",
    "Проверки статистических гипотез покажут, насколько они достоверны, исходя из имеющихся данных. \n",
    "С методами проверок гипотез вы ещё познакомитесь в следующих темах."
   ]
  }
 ],
 "metadata": {
  "ExecuteTimeLog": [
   {
    "duration": 427,
    "start_time": "2022-08-16T10:02:42.134Z"
   },
   {
    "duration": 241,
    "start_time": "2022-08-16T10:03:26.339Z"
   },
   {
    "duration": 17,
    "start_time": "2022-08-16T10:03:46.509Z"
   },
   {
    "duration": 8,
    "start_time": "2022-08-16T10:05:26.078Z"
   },
   {
    "duration": 29,
    "start_time": "2022-08-16T10:06:11.785Z"
   },
   {
    "duration": 3,
    "start_time": "2022-08-16T10:12:18.854Z"
   },
   {
    "duration": 113,
    "start_time": "2022-08-16T10:14:32.090Z"
   },
   {
    "duration": 64,
    "start_time": "2022-08-16T10:14:43.480Z"
   },
   {
    "duration": 18,
    "start_time": "2022-08-16T10:15:36.211Z"
   },
   {
    "duration": 4,
    "start_time": "2022-08-16T10:16:31.331Z"
   },
   {
    "duration": 31,
    "start_time": "2022-08-16T10:17:12.738Z"
   },
   {
    "duration": 35,
    "start_time": "2022-08-16T10:17:19.859Z"
   },
   {
    "duration": 73,
    "start_time": "2022-08-16T10:21:53.057Z"
   },
   {
    "duration": 17,
    "start_time": "2022-08-16T10:22:03.768Z"
   },
   {
    "duration": 31,
    "start_time": "2022-08-16T10:22:09.765Z"
   },
   {
    "duration": 41,
    "start_time": "2022-08-16T10:35:41.119Z"
   },
   {
    "duration": 25,
    "start_time": "2022-08-16T10:35:46.204Z"
   },
   {
    "duration": 62,
    "start_time": "2022-08-16T10:36:06.379Z"
   },
   {
    "duration": 72,
    "start_time": "2022-08-16T10:36:13.623Z"
   },
   {
    "duration": 112,
    "start_time": "2022-08-16T10:37:25.340Z"
   },
   {
    "duration": 83,
    "start_time": "2022-08-16T10:37:42.872Z"
   },
   {
    "duration": 68,
    "start_time": "2022-08-16T10:40:13.076Z"
   },
   {
    "duration": 11,
    "start_time": "2022-08-16T10:41:45.338Z"
   },
   {
    "duration": 39,
    "start_time": "2022-08-16T10:42:50.329Z"
   },
   {
    "duration": 27,
    "start_time": "2022-08-16T10:43:10.659Z"
   },
   {
    "duration": 23,
    "start_time": "2022-08-16T10:43:32.066Z"
   },
   {
    "duration": 31,
    "start_time": "2022-08-16T10:44:33.532Z"
   },
   {
    "duration": 32,
    "start_time": "2022-08-16T10:45:34.398Z"
   },
   {
    "duration": 20,
    "start_time": "2022-08-16T10:46:58.066Z"
   },
   {
    "duration": 13,
    "start_time": "2022-08-16T10:47:13.859Z"
   },
   {
    "duration": 8,
    "start_time": "2022-08-16T10:47:23.638Z"
   },
   {
    "duration": 10,
    "start_time": "2022-08-16T10:47:45.237Z"
   },
   {
    "duration": 43,
    "start_time": "2022-08-16T10:50:29.786Z"
   },
   {
    "duration": 48,
    "start_time": "2022-08-16T10:51:02.067Z"
   },
   {
    "duration": 10,
    "start_time": "2022-08-16T10:52:46.673Z"
   },
   {
    "duration": 11,
    "start_time": "2022-08-16T10:56:15.917Z"
   },
   {
    "duration": 0,
    "start_time": "2022-08-16T11:03:03.322Z"
   },
   {
    "duration": 0,
    "start_time": "2022-08-16T11:03:03.325Z"
   },
   {
    "duration": 0,
    "start_time": "2022-08-16T11:03:35.715Z"
   },
   {
    "duration": 11,
    "start_time": "2022-08-16T11:03:43.677Z"
   },
   {
    "duration": 12,
    "start_time": "2022-08-16T11:04:01.116Z"
   },
   {
    "duration": 7,
    "start_time": "2022-08-16T11:04:03.631Z"
   },
   {
    "duration": 55,
    "start_time": "2022-08-16T11:04:17.527Z"
   },
   {
    "duration": 75,
    "start_time": "2022-08-16T11:04:23.247Z"
   },
   {
    "duration": 83,
    "start_time": "2022-08-16T11:04:28.008Z"
   },
   {
    "duration": 322,
    "start_time": "2022-08-16T11:04:39.068Z"
   },
   {
    "duration": 63,
    "start_time": "2022-08-16T11:04:44.527Z"
   },
   {
    "duration": 67,
    "start_time": "2022-08-16T11:06:19.807Z"
   },
   {
    "duration": 50,
    "start_time": "2022-08-16T11:06:23.320Z"
   },
   {
    "duration": 6,
    "start_time": "2022-08-16T11:06:30.748Z"
   },
   {
    "duration": 1254,
    "start_time": "2022-08-16T11:08:13.288Z"
   },
   {
    "duration": 7,
    "start_time": "2022-08-16T11:08:16.339Z"
   },
   {
    "duration": 6,
    "start_time": "2022-08-16T11:08:24.768Z"
   },
   {
    "duration": 1338,
    "start_time": "2022-08-16T11:09:14.551Z"
   },
   {
    "duration": 774,
    "start_time": "2022-08-16T11:09:30.420Z"
   },
   {
    "duration": 999,
    "start_time": "2022-08-16T11:09:32.576Z"
   },
   {
    "duration": 789,
    "start_time": "2022-08-16T11:09:43.329Z"
   },
   {
    "duration": 4,
    "start_time": "2022-08-16T11:10:50.549Z"
   },
   {
    "duration": 8,
    "start_time": "2022-08-16T11:10:59.065Z"
   },
   {
    "duration": 2,
    "start_time": "2022-08-16T11:11:30.249Z"
   },
   {
    "duration": 201,
    "start_time": "2022-08-16T11:11:30.253Z"
   },
   {
    "duration": 7,
    "start_time": "2022-08-16T11:11:30.455Z"
   },
   {
    "duration": 38,
    "start_time": "2022-08-16T11:11:30.464Z"
   },
   {
    "duration": 16,
    "start_time": "2022-08-16T11:11:30.505Z"
   },
   {
    "duration": 21,
    "start_time": "2022-08-16T11:11:30.523Z"
   },
   {
    "duration": 25,
    "start_time": "2022-08-16T11:11:30.546Z"
   },
   {
    "duration": 10,
    "start_time": "2022-08-16T11:11:30.574Z"
   },
   {
    "duration": 53,
    "start_time": "2022-08-16T11:11:30.586Z"
   },
   {
    "duration": 28,
    "start_time": "2022-08-16T11:11:30.641Z"
   },
   {
    "duration": 36,
    "start_time": "2022-08-16T11:11:30.671Z"
   },
   {
    "duration": 75,
    "start_time": "2022-08-16T11:11:30.709Z"
   },
   {
    "duration": 70,
    "start_time": "2022-08-16T11:11:30.786Z"
   },
   {
    "duration": 79,
    "start_time": "2022-08-16T11:11:30.860Z"
   },
   {
    "duration": 35,
    "start_time": "2022-08-16T11:11:30.941Z"
   },
   {
    "duration": 24,
    "start_time": "2022-08-16T11:11:30.979Z"
   },
   {
    "duration": 16,
    "start_time": "2022-08-16T11:11:31.005Z"
   },
   {
    "duration": 10,
    "start_time": "2022-08-16T11:11:31.023Z"
   },
   {
    "duration": 8,
    "start_time": "2022-08-16T11:11:31.035Z"
   },
   {
    "duration": 13,
    "start_time": "2022-08-16T11:11:31.045Z"
   },
   {
    "duration": 26,
    "start_time": "2022-08-16T11:11:31.061Z"
   },
   {
    "duration": 10,
    "start_time": "2022-08-16T11:11:31.089Z"
   },
   {
    "duration": 16,
    "start_time": "2022-08-16T11:11:31.100Z"
   },
   {
    "duration": 10,
    "start_time": "2022-08-16T11:11:31.118Z"
   },
   {
    "duration": 22,
    "start_time": "2022-08-16T11:11:31.130Z"
   },
   {
    "duration": 28,
    "start_time": "2022-08-16T11:11:31.154Z"
   },
   {
    "duration": 22,
    "start_time": "2022-08-16T11:11:31.184Z"
   },
   {
    "duration": 25,
    "start_time": "2022-08-16T11:11:31.208Z"
   },
   {
    "duration": 18,
    "start_time": "2022-08-16T11:11:31.235Z"
   },
   {
    "duration": 64,
    "start_time": "2022-08-16T11:11:31.255Z"
   },
   {
    "duration": 0,
    "start_time": "2022-08-16T11:11:31.321Z"
   },
   {
    "duration": 0,
    "start_time": "2022-08-16T11:11:31.322Z"
   },
   {
    "duration": 0,
    "start_time": "2022-08-16T11:11:31.324Z"
   },
   {
    "duration": 0,
    "start_time": "2022-08-16T11:11:31.325Z"
   },
   {
    "duration": 0,
    "start_time": "2022-08-16T11:11:31.326Z"
   },
   {
    "duration": 0,
    "start_time": "2022-08-16T11:11:31.328Z"
   },
   {
    "duration": 0,
    "start_time": "2022-08-16T11:11:31.329Z"
   },
   {
    "duration": 0,
    "start_time": "2022-08-16T11:11:31.331Z"
   },
   {
    "duration": 928,
    "start_time": "2022-08-16T11:12:55.191Z"
   },
   {
    "duration": 3,
    "start_time": "2022-08-16T11:13:06.313Z"
   },
   {
    "duration": 183,
    "start_time": "2022-08-16T11:13:06.317Z"
   },
   {
    "duration": 6,
    "start_time": "2022-08-16T11:13:06.502Z"
   },
   {
    "duration": 31,
    "start_time": "2022-08-16T11:13:06.510Z"
   },
   {
    "duration": 2,
    "start_time": "2022-08-16T11:13:06.543Z"
   },
   {
    "duration": 7,
    "start_time": "2022-08-16T11:13:06.547Z"
   },
   {
    "duration": 18,
    "start_time": "2022-08-16T11:13:06.555Z"
   },
   {
    "duration": 6,
    "start_time": "2022-08-16T11:13:06.574Z"
   },
   {
    "duration": 37,
    "start_time": "2022-08-16T11:13:06.581Z"
   },
   {
    "duration": 33,
    "start_time": "2022-08-16T11:13:06.619Z"
   },
   {
    "duration": 36,
    "start_time": "2022-08-16T11:13:06.654Z"
   },
   {
    "duration": 75,
    "start_time": "2022-08-16T11:13:06.692Z"
   },
   {
    "duration": 71,
    "start_time": "2022-08-16T11:13:06.771Z"
   },
   {
    "duration": 69,
    "start_time": "2022-08-16T11:13:06.844Z"
   },
   {
    "duration": 33,
    "start_time": "2022-08-16T11:13:06.915Z"
   },
   {
    "duration": 872,
    "start_time": "2022-08-16T11:13:06.949Z"
   },
   {
    "duration": 0,
    "start_time": "2022-08-16T11:13:07.823Z"
   },
   {
    "duration": 0,
    "start_time": "2022-08-16T11:13:07.824Z"
   },
   {
    "duration": 0,
    "start_time": "2022-08-16T11:13:07.825Z"
   },
   {
    "duration": 0,
    "start_time": "2022-08-16T11:13:07.826Z"
   },
   {
    "duration": 0,
    "start_time": "2022-08-16T11:13:07.827Z"
   },
   {
    "duration": 0,
    "start_time": "2022-08-16T11:13:07.828Z"
   },
   {
    "duration": 0,
    "start_time": "2022-08-16T11:13:07.829Z"
   },
   {
    "duration": 0,
    "start_time": "2022-08-16T11:13:07.830Z"
   },
   {
    "duration": 0,
    "start_time": "2022-08-16T11:13:07.831Z"
   },
   {
    "duration": 0,
    "start_time": "2022-08-16T11:13:07.832Z"
   },
   {
    "duration": 0,
    "start_time": "2022-08-16T11:13:07.833Z"
   },
   {
    "duration": 0,
    "start_time": "2022-08-16T11:13:07.835Z"
   },
   {
    "duration": 0,
    "start_time": "2022-08-16T11:13:07.836Z"
   },
   {
    "duration": 0,
    "start_time": "2022-08-16T11:13:07.837Z"
   },
   {
    "duration": 0,
    "start_time": "2022-08-16T11:13:07.838Z"
   },
   {
    "duration": 0,
    "start_time": "2022-08-16T11:13:07.839Z"
   },
   {
    "duration": 0,
    "start_time": "2022-08-16T11:13:07.840Z"
   },
   {
    "duration": 0,
    "start_time": "2022-08-16T11:13:07.841Z"
   },
   {
    "duration": 0,
    "start_time": "2022-08-16T11:13:07.842Z"
   },
   {
    "duration": 0,
    "start_time": "2022-08-16T11:13:07.843Z"
   },
   {
    "duration": 0,
    "start_time": "2022-08-16T11:13:07.844Z"
   },
   {
    "duration": 0,
    "start_time": "2022-08-16T11:13:07.845Z"
   },
   {
    "duration": 2,
    "start_time": "2022-08-16T11:13:28.090Z"
   },
   {
    "duration": 2,
    "start_time": "2022-08-16T11:13:30.809Z"
   },
   {
    "duration": 7,
    "start_time": "2022-08-16T11:13:51.326Z"
   },
   {
    "duration": 3,
    "start_time": "2022-08-16T11:13:58.412Z"
   },
   {
    "duration": 215,
    "start_time": "2022-08-16T11:13:58.417Z"
   },
   {
    "duration": 9,
    "start_time": "2022-08-16T11:13:58.634Z"
   },
   {
    "duration": 56,
    "start_time": "2022-08-16T11:13:58.645Z"
   },
   {
    "duration": 3,
    "start_time": "2022-08-16T11:13:58.705Z"
   },
   {
    "duration": 28,
    "start_time": "2022-08-16T11:13:58.709Z"
   },
   {
    "duration": 39,
    "start_time": "2022-08-16T11:13:58.739Z"
   },
   {
    "duration": 11,
    "start_time": "2022-08-16T11:13:58.779Z"
   },
   {
    "duration": 31,
    "start_time": "2022-08-16T11:13:58.791Z"
   },
   {
    "duration": 23,
    "start_time": "2022-08-16T11:13:58.824Z"
   },
   {
    "duration": 28,
    "start_time": "2022-08-16T11:13:58.849Z"
   },
   {
    "duration": 82,
    "start_time": "2022-08-16T11:13:58.879Z"
   },
   {
    "duration": 96,
    "start_time": "2022-08-16T11:13:58.965Z"
   },
   {
    "duration": 73,
    "start_time": "2022-08-16T11:13:59.063Z"
   },
   {
    "duration": 36,
    "start_time": "2022-08-16T11:13:59.137Z"
   },
   {
    "duration": 24,
    "start_time": "2022-08-16T11:13:59.175Z"
   },
   {
    "duration": 0,
    "start_time": "2022-08-16T11:13:59.202Z"
   },
   {
    "duration": 0,
    "start_time": "2022-08-16T11:13:59.203Z"
   },
   {
    "duration": 0,
    "start_time": "2022-08-16T11:13:59.204Z"
   },
   {
    "duration": 0,
    "start_time": "2022-08-16T11:13:59.205Z"
   },
   {
    "duration": 0,
    "start_time": "2022-08-16T11:13:59.206Z"
   },
   {
    "duration": 0,
    "start_time": "2022-08-16T11:13:59.207Z"
   },
   {
    "duration": 0,
    "start_time": "2022-08-16T11:13:59.209Z"
   },
   {
    "duration": 0,
    "start_time": "2022-08-16T11:13:59.211Z"
   },
   {
    "duration": 0,
    "start_time": "2022-08-16T11:13:59.211Z"
   },
   {
    "duration": 0,
    "start_time": "2022-08-16T11:13:59.213Z"
   },
   {
    "duration": 0,
    "start_time": "2022-08-16T11:13:59.214Z"
   },
   {
    "duration": 0,
    "start_time": "2022-08-16T11:13:59.215Z"
   },
   {
    "duration": 0,
    "start_time": "2022-08-16T11:13:59.216Z"
   },
   {
    "duration": 0,
    "start_time": "2022-08-16T11:13:59.218Z"
   },
   {
    "duration": 0,
    "start_time": "2022-08-16T11:13:59.218Z"
   },
   {
    "duration": 0,
    "start_time": "2022-08-16T11:13:59.220Z"
   },
   {
    "duration": 0,
    "start_time": "2022-08-16T11:13:59.221Z"
   },
   {
    "duration": 0,
    "start_time": "2022-08-16T11:13:59.224Z"
   },
   {
    "duration": 0,
    "start_time": "2022-08-16T11:13:59.225Z"
   },
   {
    "duration": 0,
    "start_time": "2022-08-16T11:13:59.226Z"
   },
   {
    "duration": 0,
    "start_time": "2022-08-16T11:13:59.228Z"
   },
   {
    "duration": 0,
    "start_time": "2022-08-16T11:13:59.229Z"
   },
   {
    "duration": 4,
    "start_time": "2022-08-16T11:14:11.628Z"
   },
   {
    "duration": 8,
    "start_time": "2022-08-16T11:14:46.128Z"
   },
   {
    "duration": 11,
    "start_time": "2022-08-16T11:15:04.067Z"
   },
   {
    "duration": 7,
    "start_time": "2022-08-16T11:15:06.686Z"
   },
   {
    "duration": 11,
    "start_time": "2022-08-16T11:15:26.250Z"
   },
   {
    "duration": 9,
    "start_time": "2022-08-16T11:15:26.263Z"
   },
   {
    "duration": 8,
    "start_time": "2022-08-16T11:15:26.273Z"
   },
   {
    "duration": 6,
    "start_time": "2022-08-16T11:15:26.282Z"
   },
   {
    "duration": 4,
    "start_time": "2022-08-16T11:15:26.290Z"
   },
   {
    "duration": 6,
    "start_time": "2022-08-16T11:15:26.296Z"
   },
   {
    "duration": 7,
    "start_time": "2022-08-16T11:15:26.303Z"
   },
   {
    "duration": 6,
    "start_time": "2022-08-16T11:15:26.311Z"
   },
   {
    "duration": 5,
    "start_time": "2022-08-16T11:15:26.318Z"
   },
   {
    "duration": 9,
    "start_time": "2022-08-16T11:15:26.325Z"
   },
   {
    "duration": 6,
    "start_time": "2022-08-16T11:15:26.335Z"
   },
   {
    "duration": 6,
    "start_time": "2022-08-16T11:15:26.342Z"
   },
   {
    "duration": 8,
    "start_time": "2022-08-16T11:15:26.350Z"
   },
   {
    "duration": 4,
    "start_time": "2022-08-16T11:15:26.360Z"
   },
   {
    "duration": 59,
    "start_time": "2022-08-16T11:15:26.365Z"
   },
   {
    "duration": 0,
    "start_time": "2022-08-16T11:15:26.426Z"
   },
   {
    "duration": 0,
    "start_time": "2022-08-16T11:15:26.427Z"
   },
   {
    "duration": 0,
    "start_time": "2022-08-16T11:15:26.428Z"
   },
   {
    "duration": 0,
    "start_time": "2022-08-16T11:15:26.428Z"
   },
   {
    "duration": 0,
    "start_time": "2022-08-16T11:15:26.429Z"
   },
   {
    "duration": 0,
    "start_time": "2022-08-16T11:15:26.430Z"
   },
   {
    "duration": 0,
    "start_time": "2022-08-16T11:15:26.431Z"
   },
   {
    "duration": 0,
    "start_time": "2022-08-16T11:15:26.431Z"
   },
   {
    "duration": 818,
    "start_time": "2022-08-16T11:15:49.270Z"
   },
   {
    "duration": 871,
    "start_time": "2022-08-16T11:16:04.099Z"
   },
   {
    "duration": 7,
    "start_time": "2022-08-16T11:16:37.268Z"
   },
   {
    "duration": 9,
    "start_time": "2022-08-16T11:16:40.709Z"
   },
   {
    "duration": 7,
    "start_time": "2022-08-16T11:17:11.600Z"
   },
   {
    "duration": 8,
    "start_time": "2022-08-16T11:17:47.496Z"
   },
   {
    "duration": 6,
    "start_time": "2022-08-16T11:17:52.934Z"
   },
   {
    "duration": 772,
    "start_time": "2022-08-16T11:21:19.085Z"
   },
   {
    "duration": 3,
    "start_time": "2022-08-16T11:21:24.727Z"
   },
   {
    "duration": 165,
    "start_time": "2022-08-16T11:21:24.732Z"
   },
   {
    "duration": 7,
    "start_time": "2022-08-16T11:21:24.899Z"
   },
   {
    "duration": 29,
    "start_time": "2022-08-16T11:21:24.908Z"
   },
   {
    "duration": 2,
    "start_time": "2022-08-16T11:21:24.941Z"
   },
   {
    "duration": 7,
    "start_time": "2022-08-16T11:21:24.945Z"
   },
   {
    "duration": 15,
    "start_time": "2022-08-16T11:21:24.953Z"
   },
   {
    "duration": 3,
    "start_time": "2022-08-16T11:21:24.970Z"
   },
   {
    "duration": 34,
    "start_time": "2022-08-16T11:21:24.999Z"
   },
   {
    "duration": 18,
    "start_time": "2022-08-16T11:21:25.036Z"
   },
   {
    "duration": 24,
    "start_time": "2022-08-16T11:21:25.056Z"
   },
   {
    "duration": 76,
    "start_time": "2022-08-16T11:21:25.082Z"
   },
   {
    "duration": 77,
    "start_time": "2022-08-16T11:21:25.161Z"
   },
   {
    "duration": 66,
    "start_time": "2022-08-16T11:21:25.239Z"
   },
   {
    "duration": 34,
    "start_time": "2022-08-16T11:21:25.306Z"
   },
   {
    "duration": 5,
    "start_time": "2022-08-16T11:21:28.175Z"
   },
   {
    "duration": 6,
    "start_time": "2022-08-16T11:21:32.428Z"
   },
   {
    "duration": 12,
    "start_time": "2022-08-16T11:22:24.996Z"
   },
   {
    "duration": 44,
    "start_time": "2022-08-16T11:22:27.806Z"
   },
   {
    "duration": 8,
    "start_time": "2022-08-16T11:23:44.475Z"
   },
   {
    "duration": 10,
    "start_time": "2022-08-16T11:24:26.375Z"
   },
   {
    "duration": 9,
    "start_time": "2022-08-16T11:25:21.033Z"
   },
   {
    "duration": 33,
    "start_time": "2022-08-16T11:25:25.087Z"
   },
   {
    "duration": 45,
    "start_time": "2022-08-16T15:10:47.715Z"
   },
   {
    "duration": 366,
    "start_time": "2022-08-16T15:10:56.174Z"
   },
   {
    "duration": 232,
    "start_time": "2022-08-16T15:10:56.542Z"
   },
   {
    "duration": 8,
    "start_time": "2022-08-16T15:10:56.776Z"
   },
   {
    "duration": 31,
    "start_time": "2022-08-16T15:10:56.786Z"
   },
   {
    "duration": 3,
    "start_time": "2022-08-16T15:10:56.819Z"
   },
   {
    "duration": 7,
    "start_time": "2022-08-16T15:10:56.824Z"
   },
   {
    "duration": 19,
    "start_time": "2022-08-16T15:10:56.832Z"
   },
   {
    "duration": 7,
    "start_time": "2022-08-16T15:10:56.853Z"
   },
   {
    "duration": 36,
    "start_time": "2022-08-16T15:10:56.862Z"
   },
   {
    "duration": 17,
    "start_time": "2022-08-16T15:10:56.908Z"
   },
   {
    "duration": 23,
    "start_time": "2022-08-16T15:10:56.927Z"
   },
   {
    "duration": 86,
    "start_time": "2022-08-16T15:10:56.952Z"
   },
   {
    "duration": 69,
    "start_time": "2022-08-16T15:10:57.040Z"
   },
   {
    "duration": 57,
    "start_time": "2022-08-16T15:10:57.110Z"
   },
   {
    "duration": 59,
    "start_time": "2022-08-16T15:10:57.172Z"
   },
   {
    "duration": 14,
    "start_time": "2022-08-16T15:10:57.233Z"
   },
   {
    "duration": 60,
    "start_time": "2022-08-16T15:10:57.250Z"
   },
   {
    "duration": 5,
    "start_time": "2022-08-16T15:10:57.313Z"
   },
   {
    "duration": 19,
    "start_time": "2022-08-16T15:10:57.320Z"
   },
   {
    "duration": 8,
    "start_time": "2022-08-16T15:10:57.341Z"
   },
   {
    "duration": 8,
    "start_time": "2022-08-16T15:10:57.351Z"
   },
   {
    "duration": 9,
    "start_time": "2022-08-16T15:10:57.361Z"
   },
   {
    "duration": 14,
    "start_time": "2022-08-16T15:10:57.372Z"
   },
   {
    "duration": 14,
    "start_time": "2022-08-16T15:10:57.389Z"
   },
   {
    "duration": 14,
    "start_time": "2022-08-16T15:10:57.405Z"
   },
   {
    "duration": 5,
    "start_time": "2022-08-16T15:10:57.421Z"
   },
   {
    "duration": 6,
    "start_time": "2022-08-16T15:10:57.428Z"
   },
   {
    "duration": 6,
    "start_time": "2022-08-16T15:10:57.437Z"
   },
   {
    "duration": 12,
    "start_time": "2022-08-16T15:10:57.445Z"
   },
   {
    "duration": 86,
    "start_time": "2022-08-16T15:10:57.459Z"
   },
   {
    "duration": 0,
    "start_time": "2022-08-16T15:10:57.546Z"
   },
   {
    "duration": 0,
    "start_time": "2022-08-16T15:10:57.548Z"
   },
   {
    "duration": 0,
    "start_time": "2022-08-16T15:10:57.549Z"
   },
   {
    "duration": 0,
    "start_time": "2022-08-16T15:10:57.550Z"
   },
   {
    "duration": 0,
    "start_time": "2022-08-16T15:10:57.551Z"
   },
   {
    "duration": 0,
    "start_time": "2022-08-16T15:10:57.552Z"
   },
   {
    "duration": 0,
    "start_time": "2022-08-16T15:10:57.553Z"
   },
   {
    "duration": 0,
    "start_time": "2022-08-16T15:10:57.554Z"
   },
   {
    "duration": 4,
    "start_time": "2022-08-16T15:11:04.266Z"
   },
   {
    "duration": 35,
    "start_time": "2022-08-16T15:12:30.117Z"
   },
   {
    "duration": 13,
    "start_time": "2022-08-16T15:13:16.754Z"
   },
   {
    "duration": 38,
    "start_time": "2022-08-16T15:14:37.336Z"
   },
   {
    "duration": 13,
    "start_time": "2022-08-16T15:15:08.770Z"
   },
   {
    "duration": 11,
    "start_time": "2022-08-16T15:26:38.017Z"
   },
   {
    "duration": 28,
    "start_time": "2022-08-16T15:27:32.272Z"
   },
   {
    "duration": 6,
    "start_time": "2022-08-16T15:28:13.149Z"
   },
   {
    "duration": 4,
    "start_time": "2022-08-16T15:28:32.429Z"
   },
   {
    "duration": 7,
    "start_time": "2022-08-16T15:28:34.614Z"
   },
   {
    "duration": 135,
    "start_time": "2022-08-16T15:28:57.756Z"
   },
   {
    "duration": 55,
    "start_time": "2022-08-16T15:29:19.648Z"
   },
   {
    "duration": 3,
    "start_time": "2022-08-16T15:30:54.675Z"
   },
   {
    "duration": 9,
    "start_time": "2022-08-16T15:31:00.625Z"
   },
   {
    "duration": 7,
    "start_time": "2022-08-16T15:31:05.670Z"
   },
   {
    "duration": 6,
    "start_time": "2022-08-16T15:31:09.759Z"
   },
   {
    "duration": 6,
    "start_time": "2022-08-16T15:31:27.265Z"
   },
   {
    "duration": 7,
    "start_time": "2022-08-16T15:31:32.549Z"
   },
   {
    "duration": 9,
    "start_time": "2022-08-16T15:31:35.941Z"
   },
   {
    "duration": 3,
    "start_time": "2022-08-16T15:35:59.266Z"
   },
   {
    "duration": 6,
    "start_time": "2022-08-16T15:36:10.736Z"
   },
   {
    "duration": 45,
    "start_time": "2022-08-16T15:36:23.388Z"
   },
   {
    "duration": 7,
    "start_time": "2022-08-16T15:36:29.850Z"
   },
   {
    "duration": 53,
    "start_time": "2022-08-16T15:39:53.706Z"
   },
   {
    "duration": 52,
    "start_time": "2022-08-16T15:39:57.878Z"
   },
   {
    "duration": 52,
    "start_time": "2022-08-16T15:40:58.566Z"
   },
   {
    "duration": 59,
    "start_time": "2022-08-16T15:41:03.676Z"
   },
   {
    "duration": 3,
    "start_time": "2022-08-16T15:43:37.482Z"
   },
   {
    "duration": 7,
    "start_time": "2022-08-16T15:43:43.068Z"
   },
   {
    "duration": 7,
    "start_time": "2022-08-16T15:44:04.028Z"
   },
   {
    "duration": 3,
    "start_time": "2022-08-16T15:44:20.689Z"
   },
   {
    "duration": 6,
    "start_time": "2022-08-16T15:44:22.817Z"
   },
   {
    "duration": 3,
    "start_time": "2022-08-16T15:44:48.280Z"
   },
   {
    "duration": 7,
    "start_time": "2022-08-16T15:44:50.308Z"
   },
   {
    "duration": 6,
    "start_time": "2022-08-16T15:45:18.302Z"
   },
   {
    "duration": 4,
    "start_time": "2022-08-16T15:45:53.906Z"
   },
   {
    "duration": 8,
    "start_time": "2022-08-16T15:45:55.992Z"
   },
   {
    "duration": 3,
    "start_time": "2022-08-16T15:45:57.409Z"
   },
   {
    "duration": 2,
    "start_time": "2022-08-16T15:45:57.627Z"
   },
   {
    "duration": 6,
    "start_time": "2022-08-16T15:46:04.649Z"
   },
   {
    "duration": 8,
    "start_time": "2022-08-16T15:47:05.624Z"
   },
   {
    "duration": 4,
    "start_time": "2022-08-16T15:47:19.082Z"
   },
   {
    "duration": 4,
    "start_time": "2022-08-16T15:55:36.104Z"
   },
   {
    "duration": 6,
    "start_time": "2022-08-16T15:55:44.237Z"
   },
   {
    "duration": 3,
    "start_time": "2022-08-16T15:56:02.026Z"
   },
   {
    "duration": 178,
    "start_time": "2022-08-16T15:56:02.031Z"
   },
   {
    "duration": 7,
    "start_time": "2022-08-16T15:56:02.211Z"
   },
   {
    "duration": 33,
    "start_time": "2022-08-16T15:56:02.221Z"
   },
   {
    "duration": 6,
    "start_time": "2022-08-16T15:56:02.256Z"
   },
   {
    "duration": 10,
    "start_time": "2022-08-16T15:56:02.263Z"
   },
   {
    "duration": 14,
    "start_time": "2022-08-16T15:56:02.275Z"
   },
   {
    "duration": 3,
    "start_time": "2022-08-16T15:56:02.290Z"
   },
   {
    "duration": 32,
    "start_time": "2022-08-16T15:56:02.294Z"
   },
   {
    "duration": 22,
    "start_time": "2022-08-16T15:56:02.328Z"
   },
   {
    "duration": 25,
    "start_time": "2022-08-16T15:56:02.352Z"
   },
   {
    "duration": 82,
    "start_time": "2022-08-16T15:56:02.378Z"
   },
   {
    "duration": 68,
    "start_time": "2022-08-16T15:56:02.462Z"
   },
   {
    "duration": 56,
    "start_time": "2022-08-16T15:56:02.532Z"
   },
   {
    "duration": 51,
    "start_time": "2022-08-16T15:56:02.589Z"
   },
   {
    "duration": 9,
    "start_time": "2022-08-16T15:56:02.642Z"
   },
   {
    "duration": 43,
    "start_time": "2022-08-16T15:56:02.653Z"
   },
   {
    "duration": 11,
    "start_time": "2022-08-16T15:56:02.709Z"
   },
   {
    "duration": 11,
    "start_time": "2022-08-16T15:56:02.722Z"
   },
   {
    "duration": 3,
    "start_time": "2022-08-16T15:56:02.734Z"
   },
   {
    "duration": 21,
    "start_time": "2022-08-16T15:56:02.739Z"
   },
   {
    "duration": 0,
    "start_time": "2022-08-16T15:56:02.761Z"
   },
   {
    "duration": 0,
    "start_time": "2022-08-16T15:56:02.762Z"
   },
   {
    "duration": 0,
    "start_time": "2022-08-16T15:56:02.764Z"
   },
   {
    "duration": 0,
    "start_time": "2022-08-16T15:56:02.765Z"
   },
   {
    "duration": 0,
    "start_time": "2022-08-16T15:56:02.766Z"
   },
   {
    "duration": 0,
    "start_time": "2022-08-16T15:56:02.767Z"
   },
   {
    "duration": 0,
    "start_time": "2022-08-16T15:56:02.768Z"
   },
   {
    "duration": 0,
    "start_time": "2022-08-16T15:56:02.769Z"
   },
   {
    "duration": 0,
    "start_time": "2022-08-16T15:56:02.770Z"
   },
   {
    "duration": 0,
    "start_time": "2022-08-16T15:56:02.771Z"
   },
   {
    "duration": 0,
    "start_time": "2022-08-16T15:56:02.772Z"
   },
   {
    "duration": 0,
    "start_time": "2022-08-16T15:56:02.773Z"
   },
   {
    "duration": 0,
    "start_time": "2022-08-16T15:56:02.773Z"
   },
   {
    "duration": 0,
    "start_time": "2022-08-16T15:56:02.774Z"
   },
   {
    "duration": 0,
    "start_time": "2022-08-16T15:56:02.775Z"
   },
   {
    "duration": 0,
    "start_time": "2022-08-16T15:56:02.809Z"
   },
   {
    "duration": 0,
    "start_time": "2022-08-16T15:56:02.810Z"
   },
   {
    "duration": 10,
    "start_time": "2022-08-16T15:56:09.389Z"
   },
   {
    "duration": 50,
    "start_time": "2022-08-16T15:57:23.689Z"
   },
   {
    "duration": 4,
    "start_time": "2022-08-16T15:57:31.898Z"
   },
   {
    "duration": 7,
    "start_time": "2022-08-16T15:57:35.203Z"
   },
   {
    "duration": 4,
    "start_time": "2022-08-16T15:57:45.270Z"
   },
   {
    "duration": 8,
    "start_time": "2022-08-16T15:57:47.481Z"
   },
   {
    "duration": 62,
    "start_time": "2022-08-16T15:58:33.385Z"
   },
   {
    "duration": 4,
    "start_time": "2022-08-16T15:58:43.570Z"
   },
   {
    "duration": 7,
    "start_time": "2022-08-16T15:58:45.846Z"
   },
   {
    "duration": 6,
    "start_time": "2022-08-16T15:59:11.542Z"
   },
   {
    "duration": 6,
    "start_time": "2022-08-16T15:59:13.882Z"
   },
   {
    "duration": 4,
    "start_time": "2022-08-16T15:59:33.833Z"
   },
   {
    "duration": 7,
    "start_time": "2022-08-16T15:59:35.476Z"
   },
   {
    "duration": 4,
    "start_time": "2022-08-16T16:00:09.487Z"
   },
   {
    "duration": 5,
    "start_time": "2022-08-16T16:00:16.515Z"
   },
   {
    "duration": 4,
    "start_time": "2022-08-16T16:00:28.880Z"
   },
   {
    "duration": 7,
    "start_time": "2022-08-16T16:00:30.984Z"
   },
   {
    "duration": 4,
    "start_time": "2022-08-16T16:01:11.319Z"
   },
   {
    "duration": 7,
    "start_time": "2022-08-16T16:01:12.868Z"
   },
   {
    "duration": 3,
    "start_time": "2022-08-16T16:03:54.948Z"
   },
   {
    "duration": 177,
    "start_time": "2022-08-16T16:03:54.952Z"
   },
   {
    "duration": 7,
    "start_time": "2022-08-16T16:03:55.130Z"
   },
   {
    "duration": 32,
    "start_time": "2022-08-16T16:03:55.138Z"
   },
   {
    "duration": 3,
    "start_time": "2022-08-16T16:03:55.172Z"
   },
   {
    "duration": 10,
    "start_time": "2022-08-16T16:03:55.176Z"
   },
   {
    "duration": 28,
    "start_time": "2022-08-16T16:03:55.188Z"
   },
   {
    "duration": 4,
    "start_time": "2022-08-16T16:03:55.217Z"
   },
   {
    "duration": 25,
    "start_time": "2022-08-16T16:03:55.222Z"
   },
   {
    "duration": 19,
    "start_time": "2022-08-16T16:03:55.248Z"
   },
   {
    "duration": 41,
    "start_time": "2022-08-16T16:03:55.269Z"
   },
   {
    "duration": 59,
    "start_time": "2022-08-16T16:03:55.311Z"
   },
   {
    "duration": 77,
    "start_time": "2022-08-16T16:03:55.372Z"
   },
   {
    "duration": 60,
    "start_time": "2022-08-16T16:03:55.452Z"
   },
   {
    "duration": 36,
    "start_time": "2022-08-16T16:03:55.514Z"
   },
   {
    "duration": 11,
    "start_time": "2022-08-16T16:03:55.552Z"
   },
   {
    "duration": 54,
    "start_time": "2022-08-16T16:03:55.564Z"
   },
   {
    "duration": 12,
    "start_time": "2022-08-16T16:03:55.619Z"
   },
   {
    "duration": 11,
    "start_time": "2022-08-16T16:03:55.633Z"
   },
   {
    "duration": 3,
    "start_time": "2022-08-16T16:03:55.645Z"
   },
   {
    "duration": 0,
    "start_time": "2022-08-16T16:03:55.649Z"
   },
   {
    "duration": 0,
    "start_time": "2022-08-16T16:03:55.650Z"
   },
   {
    "duration": 0,
    "start_time": "2022-08-16T16:03:55.651Z"
   },
   {
    "duration": 0,
    "start_time": "2022-08-16T16:03:55.652Z"
   },
   {
    "duration": 0,
    "start_time": "2022-08-16T16:03:55.653Z"
   },
   {
    "duration": 0,
    "start_time": "2022-08-16T16:03:55.654Z"
   },
   {
    "duration": 0,
    "start_time": "2022-08-16T16:03:55.655Z"
   },
   {
    "duration": 0,
    "start_time": "2022-08-16T16:03:55.656Z"
   },
   {
    "duration": 0,
    "start_time": "2022-08-16T16:03:55.657Z"
   },
   {
    "duration": 0,
    "start_time": "2022-08-16T16:03:55.658Z"
   },
   {
    "duration": 0,
    "start_time": "2022-08-16T16:03:55.659Z"
   },
   {
    "duration": 0,
    "start_time": "2022-08-16T16:03:55.660Z"
   },
   {
    "duration": 0,
    "start_time": "2022-08-16T16:03:55.661Z"
   },
   {
    "duration": 0,
    "start_time": "2022-08-16T16:03:55.662Z"
   },
   {
    "duration": 0,
    "start_time": "2022-08-16T16:03:55.663Z"
   },
   {
    "duration": 0,
    "start_time": "2022-08-16T16:03:55.664Z"
   },
   {
    "duration": 0,
    "start_time": "2022-08-16T16:03:55.710Z"
   },
   {
    "duration": 0,
    "start_time": "2022-08-16T16:03:55.711Z"
   },
   {
    "duration": 113,
    "start_time": "2022-08-16T16:04:52.346Z"
   },
   {
    "duration": 4,
    "start_time": "2022-08-16T16:04:59.338Z"
   },
   {
    "duration": 6,
    "start_time": "2022-08-16T16:06:26.616Z"
   },
   {
    "duration": 8,
    "start_time": "2022-08-16T16:06:43.354Z"
   },
   {
    "duration": 23,
    "start_time": "2022-08-16T16:07:41.166Z"
   },
   {
    "duration": 3,
    "start_time": "2022-08-16T16:08:01.791Z"
   },
   {
    "duration": 17,
    "start_time": "2022-08-16T16:08:04.461Z"
   },
   {
    "duration": 3,
    "start_time": "2022-08-16T16:08:15.860Z"
   },
   {
    "duration": 537,
    "start_time": "2022-08-16T16:08:18.368Z"
   },
   {
    "duration": 5,
    "start_time": "2022-08-16T16:09:10.389Z"
   },
   {
    "duration": 4,
    "start_time": "2022-08-16T16:09:36.113Z"
   },
   {
    "duration": 15,
    "start_time": "2022-08-16T16:09:38.259Z"
   },
   {
    "duration": 2,
    "start_time": "2022-08-16T16:09:52.679Z"
   },
   {
    "duration": 176,
    "start_time": "2022-08-16T16:09:52.683Z"
   },
   {
    "duration": 6,
    "start_time": "2022-08-16T16:09:52.861Z"
   },
   {
    "duration": 43,
    "start_time": "2022-08-16T16:09:52.869Z"
   },
   {
    "duration": 2,
    "start_time": "2022-08-16T16:09:52.914Z"
   },
   {
    "duration": 6,
    "start_time": "2022-08-16T16:09:52.918Z"
   },
   {
    "duration": 11,
    "start_time": "2022-08-16T16:09:52.926Z"
   },
   {
    "duration": 7,
    "start_time": "2022-08-16T16:09:52.939Z"
   },
   {
    "duration": 44,
    "start_time": "2022-08-16T16:09:52.949Z"
   },
   {
    "duration": 28,
    "start_time": "2022-08-16T16:09:52.995Z"
   },
   {
    "duration": 27,
    "start_time": "2022-08-16T16:09:53.025Z"
   },
   {
    "duration": 68,
    "start_time": "2022-08-16T16:09:53.053Z"
   },
   {
    "duration": 62,
    "start_time": "2022-08-16T16:09:53.123Z"
   },
   {
    "duration": 73,
    "start_time": "2022-08-16T16:09:53.186Z"
   },
   {
    "duration": 49,
    "start_time": "2022-08-16T16:09:53.261Z"
   },
   {
    "duration": 10,
    "start_time": "2022-08-16T16:09:53.311Z"
   },
   {
    "duration": 45,
    "start_time": "2022-08-16T16:09:53.323Z"
   },
   {
    "duration": 13,
    "start_time": "2022-08-16T16:09:53.370Z"
   },
   {
    "duration": 28,
    "start_time": "2022-08-16T16:09:53.385Z"
   },
   {
    "duration": 3,
    "start_time": "2022-08-16T16:09:53.414Z"
   },
   {
    "duration": 20,
    "start_time": "2022-08-16T16:09:53.419Z"
   },
   {
    "duration": 0,
    "start_time": "2022-08-16T16:09:53.440Z"
   },
   {
    "duration": 0,
    "start_time": "2022-08-16T16:09:53.441Z"
   },
   {
    "duration": 0,
    "start_time": "2022-08-16T16:09:53.443Z"
   },
   {
    "duration": 0,
    "start_time": "2022-08-16T16:09:53.444Z"
   },
   {
    "duration": 0,
    "start_time": "2022-08-16T16:09:53.445Z"
   },
   {
    "duration": 0,
    "start_time": "2022-08-16T16:09:53.445Z"
   },
   {
    "duration": 0,
    "start_time": "2022-08-16T16:09:53.446Z"
   },
   {
    "duration": 0,
    "start_time": "2022-08-16T16:09:53.447Z"
   },
   {
    "duration": 0,
    "start_time": "2022-08-16T16:09:53.449Z"
   },
   {
    "duration": 0,
    "start_time": "2022-08-16T16:09:53.449Z"
   },
   {
    "duration": 0,
    "start_time": "2022-08-16T16:09:53.450Z"
   },
   {
    "duration": 0,
    "start_time": "2022-08-16T16:09:53.451Z"
   },
   {
    "duration": 0,
    "start_time": "2022-08-16T16:09:53.452Z"
   },
   {
    "duration": 0,
    "start_time": "2022-08-16T16:09:53.453Z"
   },
   {
    "duration": 0,
    "start_time": "2022-08-16T16:09:53.454Z"
   },
   {
    "duration": 0,
    "start_time": "2022-08-16T16:09:53.455Z"
   },
   {
    "duration": 0,
    "start_time": "2022-08-16T16:09:53.456Z"
   },
   {
    "duration": 10,
    "start_time": "2022-08-16T16:13:07.398Z"
   },
   {
    "duration": 3,
    "start_time": "2022-08-16T16:13:12.659Z"
   },
   {
    "duration": 167,
    "start_time": "2022-08-16T16:13:12.664Z"
   },
   {
    "duration": 5,
    "start_time": "2022-08-16T16:13:12.833Z"
   },
   {
    "duration": 32,
    "start_time": "2022-08-16T16:13:12.840Z"
   },
   {
    "duration": 2,
    "start_time": "2022-08-16T16:13:12.874Z"
   },
   {
    "duration": 6,
    "start_time": "2022-08-16T16:13:12.878Z"
   },
   {
    "duration": 26,
    "start_time": "2022-08-16T16:13:12.885Z"
   },
   {
    "duration": 3,
    "start_time": "2022-08-16T16:13:12.913Z"
   },
   {
    "duration": 30,
    "start_time": "2022-08-16T16:13:12.917Z"
   },
   {
    "duration": 17,
    "start_time": "2022-08-16T16:13:12.948Z"
   },
   {
    "duration": 23,
    "start_time": "2022-08-16T16:13:12.967Z"
   },
   {
    "duration": 73,
    "start_time": "2022-08-16T16:13:12.991Z"
   },
   {
    "duration": 75,
    "start_time": "2022-08-16T16:13:13.066Z"
   },
   {
    "duration": 52,
    "start_time": "2022-08-16T16:13:13.143Z"
   },
   {
    "duration": 45,
    "start_time": "2022-08-16T16:13:13.196Z"
   },
   {
    "duration": 9,
    "start_time": "2022-08-16T16:13:13.243Z"
   },
   {
    "duration": 36,
    "start_time": "2022-08-16T16:13:13.253Z"
   },
   {
    "duration": 28,
    "start_time": "2022-08-16T16:13:13.290Z"
   },
   {
    "duration": 14,
    "start_time": "2022-08-16T16:13:13.320Z"
   },
   {
    "duration": 15,
    "start_time": "2022-08-16T16:13:13.336Z"
   },
   {
    "duration": 0,
    "start_time": "2022-08-16T16:13:13.353Z"
   },
   {
    "duration": 0,
    "start_time": "2022-08-16T16:13:13.355Z"
   },
   {
    "duration": 0,
    "start_time": "2022-08-16T16:13:13.356Z"
   },
   {
    "duration": 0,
    "start_time": "2022-08-16T16:13:13.357Z"
   },
   {
    "duration": 0,
    "start_time": "2022-08-16T16:13:13.358Z"
   },
   {
    "duration": 0,
    "start_time": "2022-08-16T16:13:13.359Z"
   },
   {
    "duration": 0,
    "start_time": "2022-08-16T16:13:13.360Z"
   },
   {
    "duration": 0,
    "start_time": "2022-08-16T16:13:13.361Z"
   },
   {
    "duration": 0,
    "start_time": "2022-08-16T16:13:13.362Z"
   },
   {
    "duration": 0,
    "start_time": "2022-08-16T16:13:13.364Z"
   },
   {
    "duration": 0,
    "start_time": "2022-08-16T16:13:13.365Z"
   },
   {
    "duration": 0,
    "start_time": "2022-08-16T16:13:13.366Z"
   },
   {
    "duration": 0,
    "start_time": "2022-08-16T16:13:13.367Z"
   },
   {
    "duration": 0,
    "start_time": "2022-08-16T16:13:13.368Z"
   },
   {
    "duration": 0,
    "start_time": "2022-08-16T16:13:13.369Z"
   },
   {
    "duration": 0,
    "start_time": "2022-08-16T16:13:13.370Z"
   },
   {
    "duration": 0,
    "start_time": "2022-08-16T16:13:13.409Z"
   },
   {
    "duration": 0,
    "start_time": "2022-08-16T16:13:13.410Z"
   },
   {
    "duration": 10,
    "start_time": "2022-08-16T16:13:42.186Z"
   },
   {
    "duration": 13,
    "start_time": "2022-08-16T16:13:44.830Z"
   },
   {
    "duration": 3,
    "start_time": "2022-08-16T16:13:53.615Z"
   },
   {
    "duration": 13,
    "start_time": "2022-08-16T16:13:55.420Z"
   },
   {
    "duration": 14,
    "start_time": "2022-08-16T16:14:58.663Z"
   },
   {
    "duration": 13,
    "start_time": "2022-08-16T16:17:09.795Z"
   },
   {
    "duration": 17,
    "start_time": "2022-08-16T16:18:04.629Z"
   },
   {
    "duration": 16,
    "start_time": "2022-08-16T16:18:09.643Z"
   },
   {
    "duration": 19,
    "start_time": "2022-08-16T16:18:16.766Z"
   },
   {
    "duration": 19,
    "start_time": "2022-08-16T16:19:14.725Z"
   },
   {
    "duration": 4,
    "start_time": "2022-08-16T16:24:30.078Z"
   },
   {
    "duration": 15,
    "start_time": "2022-08-16T16:24:32.049Z"
   },
   {
    "duration": 2,
    "start_time": "2022-08-16T16:24:40.493Z"
   },
   {
    "duration": 14,
    "start_time": "2022-08-16T16:25:18.235Z"
   },
   {
    "duration": 14,
    "start_time": "2022-08-16T16:25:45.521Z"
   },
   {
    "duration": 2,
    "start_time": "2022-08-16T16:25:48.233Z"
   },
   {
    "duration": 13,
    "start_time": "2022-08-16T16:26:11.155Z"
   },
   {
    "duration": 16,
    "start_time": "2022-08-16T16:26:39.217Z"
   },
   {
    "duration": 13,
    "start_time": "2022-08-16T16:26:58.993Z"
   },
   {
    "duration": 83,
    "start_time": "2022-08-16T17:22:55.999Z"
   },
   {
    "duration": 84,
    "start_time": "2022-08-16T17:23:49.257Z"
   },
   {
    "duration": 14,
    "start_time": "2022-08-16T17:25:08.052Z"
   },
   {
    "duration": 8,
    "start_time": "2022-08-16T17:25:20.197Z"
   },
   {
    "duration": 12,
    "start_time": "2022-08-16T17:25:25.851Z"
   },
   {
    "duration": 32,
    "start_time": "2022-08-16T17:28:14.495Z"
   },
   {
    "duration": 10,
    "start_time": "2022-08-16T17:32:50.605Z"
   },
   {
    "duration": 10,
    "start_time": "2022-08-16T17:34:22.509Z"
   },
   {
    "duration": 10,
    "start_time": "2022-08-16T17:34:50.334Z"
   },
   {
    "duration": 4,
    "start_time": "2022-08-16T17:47:51.128Z"
   },
   {
    "duration": 1009,
    "start_time": "2022-08-16T17:48:53.406Z"
   },
   {
    "duration": 4,
    "start_time": "2022-08-16T17:49:38.950Z"
   },
   {
    "duration": 79,
    "start_time": "2022-08-16T17:49:49.050Z"
   },
   {
    "duration": 5,
    "start_time": "2022-08-16T17:50:26.739Z"
   },
   {
    "duration": 812,
    "start_time": "2022-08-16T17:50:29.175Z"
   },
   {
    "duration": 5,
    "start_time": "2022-08-16T17:50:57.023Z"
   },
   {
    "duration": 30,
    "start_time": "2022-08-16T17:51:00.341Z"
   },
   {
    "duration": 4,
    "start_time": "2022-08-16T17:51:35.230Z"
   },
   {
    "duration": 859,
    "start_time": "2022-08-16T17:51:40.400Z"
   },
   {
    "duration": 7,
    "start_time": "2022-08-16T17:51:57.909Z"
   },
   {
    "duration": 4,
    "start_time": "2022-08-16T17:52:04.992Z"
   },
   {
    "duration": 922,
    "start_time": "2022-08-16T17:52:08.383Z"
   },
   {
    "duration": 4,
    "start_time": "2022-08-16T17:52:24.938Z"
   },
   {
    "duration": 959,
    "start_time": "2022-08-16T17:52:26.975Z"
   },
   {
    "duration": 4,
    "start_time": "2022-08-16T17:52:40.475Z"
   },
   {
    "duration": 29,
    "start_time": "2022-08-16T17:52:43.330Z"
   },
   {
    "duration": 10,
    "start_time": "2022-08-16T17:52:51.819Z"
   },
   {
    "duration": 46,
    "start_time": "2022-08-16T17:52:56.658Z"
   },
   {
    "duration": 4,
    "start_time": "2022-08-16T17:53:16.994Z"
   },
   {
    "duration": 44,
    "start_time": "2022-08-16T17:53:18.924Z"
   },
   {
    "duration": 5,
    "start_time": "2022-08-16T17:54:00.998Z"
   },
   {
    "duration": 53,
    "start_time": "2022-08-16T17:54:02.782Z"
   },
   {
    "duration": 4,
    "start_time": "2022-08-16T18:02:34.234Z"
   },
   {
    "duration": 38,
    "start_time": "2022-08-16T18:02:36.602Z"
   },
   {
    "duration": 4,
    "start_time": "2022-08-16T18:02:45.223Z"
   },
   {
    "duration": 45,
    "start_time": "2022-08-16T18:02:47.556Z"
   },
   {
    "duration": 6,
    "start_time": "2022-08-16T18:03:46.405Z"
   },
   {
    "duration": 54,
    "start_time": "2022-08-16T18:03:48.137Z"
   },
   {
    "duration": 4,
    "start_time": "2022-08-16T18:04:10.004Z"
   },
   {
    "duration": 4,
    "start_time": "2022-08-16T18:04:33.975Z"
   },
   {
    "duration": 4,
    "start_time": "2022-08-16T18:04:41.185Z"
   },
   {
    "duration": 63,
    "start_time": "2022-08-16T18:04:46.604Z"
   },
   {
    "duration": 4,
    "start_time": "2022-08-16T18:05:03.975Z"
   },
   {
    "duration": 58,
    "start_time": "2022-08-16T18:05:07.205Z"
   },
   {
    "duration": 5,
    "start_time": "2022-08-16T18:05:14.421Z"
   },
   {
    "duration": 34,
    "start_time": "2022-08-16T18:05:16.395Z"
   },
   {
    "duration": 5,
    "start_time": "2022-08-16T18:05:29.162Z"
   },
   {
    "duration": 26,
    "start_time": "2022-08-16T18:05:30.766Z"
   },
   {
    "duration": 5,
    "start_time": "2022-08-16T18:07:02.778Z"
   },
   {
    "duration": 35,
    "start_time": "2022-08-16T18:07:04.601Z"
   },
   {
    "duration": 4,
    "start_time": "2022-08-16T18:09:33.045Z"
   },
   {
    "duration": 38,
    "start_time": "2022-08-16T18:09:35.122Z"
   },
   {
    "duration": 11,
    "start_time": "2022-08-16T18:09:46.520Z"
   },
   {
    "duration": 36,
    "start_time": "2022-08-16T18:09:48.454Z"
   },
   {
    "duration": 4,
    "start_time": "2022-08-16T18:09:52.495Z"
   },
   {
    "duration": 60,
    "start_time": "2022-08-16T18:09:54.035Z"
   },
   {
    "duration": 4,
    "start_time": "2022-08-16T18:09:57.587Z"
   },
   {
    "duration": 45,
    "start_time": "2022-08-16T18:09:59.061Z"
   },
   {
    "duration": 38,
    "start_time": "2022-08-16T18:10:01.940Z"
   },
   {
    "duration": 55,
    "start_time": "2022-08-16T18:10:31.785Z"
   },
   {
    "duration": 35,
    "start_time": "2022-08-16T18:10:34.567Z"
   },
   {
    "duration": 3,
    "start_time": "2022-08-16T18:10:40.321Z"
   },
   {
    "duration": 191,
    "start_time": "2022-08-16T18:10:40.326Z"
   },
   {
    "duration": 13,
    "start_time": "2022-08-16T18:10:40.519Z"
   },
   {
    "duration": 40,
    "start_time": "2022-08-16T18:10:40.533Z"
   },
   {
    "duration": 3,
    "start_time": "2022-08-16T18:10:40.575Z"
   },
   {
    "duration": 14,
    "start_time": "2022-08-16T18:10:40.580Z"
   },
   {
    "duration": 23,
    "start_time": "2022-08-16T18:10:40.596Z"
   },
   {
    "duration": 23,
    "start_time": "2022-08-16T18:10:40.621Z"
   },
   {
    "duration": 47,
    "start_time": "2022-08-16T18:10:40.646Z"
   },
   {
    "duration": 27,
    "start_time": "2022-08-16T18:10:40.695Z"
   },
   {
    "duration": 36,
    "start_time": "2022-08-16T18:10:40.725Z"
   },
   {
    "duration": 66,
    "start_time": "2022-08-16T18:10:40.763Z"
   },
   {
    "duration": 72,
    "start_time": "2022-08-16T18:10:40.868Z"
   },
   {
    "duration": 57,
    "start_time": "2022-08-16T18:10:40.942Z"
   },
   {
    "duration": 44,
    "start_time": "2022-08-16T18:10:41.011Z"
   },
   {
    "duration": 15,
    "start_time": "2022-08-16T18:10:41.057Z"
   },
   {
    "duration": 63,
    "start_time": "2022-08-16T18:10:41.073Z"
   },
   {
    "duration": 11,
    "start_time": "2022-08-16T18:10:41.138Z"
   },
   {
    "duration": 28,
    "start_time": "2022-08-16T18:10:41.151Z"
   },
   {
    "duration": 12,
    "start_time": "2022-08-16T18:10:41.181Z"
   },
   {
    "duration": 59,
    "start_time": "2022-08-16T18:10:41.194Z"
   },
   {
    "duration": 35,
    "start_time": "2022-08-16T18:10:41.254Z"
   },
   {
    "duration": 60,
    "start_time": "2022-08-16T18:10:41.291Z"
   },
   {
    "duration": 27,
    "start_time": "2022-08-16T18:10:41.353Z"
   },
   {
    "duration": 45,
    "start_time": "2022-08-16T18:10:41.382Z"
   },
   {
    "duration": 36,
    "start_time": "2022-08-16T18:10:41.428Z"
   },
   {
    "duration": 17,
    "start_time": "2022-08-16T18:10:41.466Z"
   },
   {
    "duration": 50,
    "start_time": "2022-08-16T18:10:41.484Z"
   },
   {
    "duration": 26,
    "start_time": "2022-08-16T18:10:41.535Z"
   },
   {
    "duration": 24,
    "start_time": "2022-08-16T18:10:41.562Z"
   },
   {
    "duration": 61,
    "start_time": "2022-08-16T18:10:41.588Z"
   },
   {
    "duration": 3,
    "start_time": "2022-08-16T18:10:41.650Z"
   },
   {
    "duration": 35,
    "start_time": "2022-08-16T18:10:41.654Z"
   },
   {
    "duration": 43,
    "start_time": "2022-08-16T18:10:41.691Z"
   },
   {
    "duration": 15,
    "start_time": "2022-08-16T18:10:41.736Z"
   },
   {
    "duration": 23,
    "start_time": "2022-08-16T18:10:41.752Z"
   },
   {
    "duration": 29,
    "start_time": "2022-08-16T18:10:41.778Z"
   },
   {
    "duration": 15,
    "start_time": "2022-08-16T18:10:41.813Z"
   },
   {
    "duration": 52,
    "start_time": "2022-08-16T18:10:45.296Z"
   },
   {
    "duration": 6,
    "start_time": "2022-08-16T18:10:47.325Z"
   },
   {
    "duration": 39,
    "start_time": "2022-08-16T18:10:50.079Z"
   },
   {
    "duration": 51,
    "start_time": "2022-08-16T18:11:01.272Z"
   },
   {
    "duration": 13,
    "start_time": "2022-08-16T18:11:08.250Z"
   },
   {
    "duration": 10,
    "start_time": "2022-08-16T18:11:08.739Z"
   },
   {
    "duration": 46,
    "start_time": "2022-08-16T18:11:10.396Z"
   },
   {
    "duration": 41,
    "start_time": "2022-08-16T18:11:12.943Z"
   },
   {
    "duration": 31,
    "start_time": "2022-08-16T18:11:27.440Z"
   },
   {
    "duration": 36,
    "start_time": "2022-08-16T18:11:37.609Z"
   },
   {
    "duration": 36,
    "start_time": "2022-08-16T18:11:59.728Z"
   },
   {
    "duration": 63,
    "start_time": "2022-08-16T18:12:16.860Z"
   },
   {
    "duration": 32,
    "start_time": "2022-08-16T18:12:46.810Z"
   },
   {
    "duration": 48,
    "start_time": "2022-08-16T18:15:22.247Z"
   },
   {
    "duration": 6,
    "start_time": "2022-08-16T18:16:50.080Z"
   },
   {
    "duration": 14,
    "start_time": "2022-08-16T18:16:57.226Z"
   },
   {
    "duration": 12,
    "start_time": "2022-08-16T18:17:05.114Z"
   },
   {
    "duration": 30,
    "start_time": "2022-08-16T18:17:17.820Z"
   },
   {
    "duration": 29,
    "start_time": "2022-08-16T18:17:34.223Z"
   },
   {
    "duration": 26,
    "start_time": "2022-08-16T18:18:31.971Z"
   },
   {
    "duration": 17,
    "start_time": "2022-08-16T18:18:56.103Z"
   },
   {
    "duration": 12,
    "start_time": "2022-08-16T18:20:59.378Z"
   },
   {
    "duration": 20,
    "start_time": "2022-08-16T18:21:39.145Z"
   },
   {
    "duration": 13,
    "start_time": "2022-08-16T18:21:42.195Z"
   },
   {
    "duration": 12,
    "start_time": "2022-08-16T18:22:12.425Z"
   },
   {
    "duration": 20,
    "start_time": "2022-08-16T18:22:14.786Z"
   },
   {
    "duration": 9,
    "start_time": "2022-08-16T18:24:24.039Z"
   },
   {
    "duration": 12,
    "start_time": "2022-08-16T18:26:30.153Z"
   },
   {
    "duration": 11,
    "start_time": "2022-08-16T18:26:38.865Z"
   },
   {
    "duration": 8,
    "start_time": "2022-08-16T18:27:10.220Z"
   },
   {
    "duration": 3,
    "start_time": "2022-08-16T18:27:14.497Z"
   },
   {
    "duration": 162,
    "start_time": "2022-08-16T18:27:14.502Z"
   },
   {
    "duration": 6,
    "start_time": "2022-08-16T18:27:14.666Z"
   },
   {
    "duration": 36,
    "start_time": "2022-08-16T18:27:14.674Z"
   },
   {
    "duration": 2,
    "start_time": "2022-08-16T18:27:14.712Z"
   },
   {
    "duration": 6,
    "start_time": "2022-08-16T18:27:14.715Z"
   },
   {
    "duration": 14,
    "start_time": "2022-08-16T18:27:14.722Z"
   },
   {
    "duration": 4,
    "start_time": "2022-08-16T18:27:14.737Z"
   },
   {
    "duration": 29,
    "start_time": "2022-08-16T18:27:14.742Z"
   },
   {
    "duration": 38,
    "start_time": "2022-08-16T18:27:14.772Z"
   },
   {
    "duration": 26,
    "start_time": "2022-08-16T18:27:14.813Z"
   },
   {
    "duration": 77,
    "start_time": "2022-08-16T18:27:14.840Z"
   },
   {
    "duration": 69,
    "start_time": "2022-08-16T18:27:14.919Z"
   },
   {
    "duration": 74,
    "start_time": "2022-08-16T18:27:14.989Z"
   },
   {
    "duration": 45,
    "start_time": "2022-08-16T18:27:15.065Z"
   },
   {
    "duration": 10,
    "start_time": "2022-08-16T18:27:15.111Z"
   },
   {
    "duration": 42,
    "start_time": "2022-08-16T18:27:15.122Z"
   },
   {
    "duration": 12,
    "start_time": "2022-08-16T18:27:15.165Z"
   },
   {
    "duration": 37,
    "start_time": "2022-08-16T18:27:15.179Z"
   },
   {
    "duration": 4,
    "start_time": "2022-08-16T18:27:15.217Z"
   },
   {
    "duration": 38,
    "start_time": "2022-08-16T18:27:15.222Z"
   },
   {
    "duration": 12,
    "start_time": "2022-08-16T18:27:15.262Z"
   },
   {
    "duration": 24,
    "start_time": "2022-08-16T18:27:15.276Z"
   },
   {
    "duration": 14,
    "start_time": "2022-08-16T18:27:15.301Z"
   },
   {
    "duration": 17,
    "start_time": "2022-08-16T18:27:15.316Z"
   },
   {
    "duration": 14,
    "start_time": "2022-08-16T18:27:15.334Z"
   },
   {
    "duration": 10,
    "start_time": "2022-08-16T18:27:15.350Z"
   },
   {
    "duration": 15,
    "start_time": "2022-08-16T18:27:15.361Z"
   },
   {
    "duration": 31,
    "start_time": "2022-08-16T18:27:15.379Z"
   },
   {
    "duration": 20,
    "start_time": "2022-08-16T18:27:15.412Z"
   },
   {
    "duration": 47,
    "start_time": "2022-08-16T18:27:15.433Z"
   },
   {
    "duration": 10,
    "start_time": "2022-08-16T18:27:15.482Z"
   },
   {
    "duration": 18,
    "start_time": "2022-08-16T18:27:15.494Z"
   },
   {
    "duration": 12,
    "start_time": "2022-08-16T18:27:15.514Z"
   },
   {
    "duration": 12,
    "start_time": "2022-08-16T18:27:15.527Z"
   },
   {
    "duration": 0,
    "start_time": "2022-08-16T18:27:15.540Z"
   },
   {
    "duration": 0,
    "start_time": "2022-08-16T18:27:15.541Z"
   },
   {
    "duration": 0,
    "start_time": "2022-08-16T18:27:15.543Z"
   },
   {
    "duration": 12,
    "start_time": "2022-08-16T18:27:20.115Z"
   },
   {
    "duration": 34,
    "start_time": "2022-08-16T18:27:31.721Z"
   },
   {
    "duration": 10,
    "start_time": "2022-08-16T18:27:46.759Z"
   },
   {
    "duration": 7,
    "start_time": "2022-08-16T18:27:58.435Z"
   },
   {
    "duration": 35,
    "start_time": "2022-08-16T18:28:00.600Z"
   },
   {
    "duration": 12,
    "start_time": "2022-08-16T18:28:02.163Z"
   },
   {
    "duration": 51,
    "start_time": "2022-08-16T18:28:38.767Z"
   },
   {
    "duration": 10,
    "start_time": "2022-08-16T18:28:42.188Z"
   },
   {
    "duration": 11,
    "start_time": "2022-08-16T18:29:26.778Z"
   },
   {
    "duration": 11,
    "start_time": "2022-08-16T18:29:41.656Z"
   },
   {
    "duration": 5,
    "start_time": "2022-08-16T18:29:43.896Z"
   },
   {
    "duration": 8,
    "start_time": "2022-08-16T18:30:48.482Z"
   },
   {
    "duration": 2,
    "start_time": "2022-08-16T18:30:53.116Z"
   },
   {
    "duration": 169,
    "start_time": "2022-08-16T18:30:53.120Z"
   },
   {
    "duration": 6,
    "start_time": "2022-08-16T18:30:53.291Z"
   },
   {
    "duration": 33,
    "start_time": "2022-08-16T18:30:53.298Z"
   },
   {
    "duration": 2,
    "start_time": "2022-08-16T18:30:53.333Z"
   },
   {
    "duration": 5,
    "start_time": "2022-08-16T18:30:53.337Z"
   },
   {
    "duration": 13,
    "start_time": "2022-08-16T18:30:53.344Z"
   },
   {
    "duration": 3,
    "start_time": "2022-08-16T18:30:53.359Z"
   },
   {
    "duration": 46,
    "start_time": "2022-08-16T18:30:53.364Z"
   },
   {
    "duration": 18,
    "start_time": "2022-08-16T18:30:53.411Z"
   },
   {
    "duration": 26,
    "start_time": "2022-08-16T18:30:53.430Z"
   },
   {
    "duration": 88,
    "start_time": "2022-08-16T18:30:53.457Z"
   },
   {
    "duration": 78,
    "start_time": "2022-08-16T18:30:53.548Z"
   },
   {
    "duration": 65,
    "start_time": "2022-08-16T18:30:53.628Z"
   },
   {
    "duration": 52,
    "start_time": "2022-08-16T18:30:53.695Z"
   },
   {
    "duration": 11,
    "start_time": "2022-08-16T18:30:53.749Z"
   },
   {
    "duration": 54,
    "start_time": "2022-08-16T18:30:53.762Z"
   },
   {
    "duration": 15,
    "start_time": "2022-08-16T18:30:53.818Z"
   },
   {
    "duration": 14,
    "start_time": "2022-08-16T18:30:53.834Z"
   },
   {
    "duration": 5,
    "start_time": "2022-08-16T18:30:53.850Z"
   },
   {
    "duration": 36,
    "start_time": "2022-08-16T18:30:53.857Z"
   },
   {
    "duration": 14,
    "start_time": "2022-08-16T18:30:53.909Z"
   },
   {
    "duration": 16,
    "start_time": "2022-08-16T18:30:53.925Z"
   },
   {
    "duration": 13,
    "start_time": "2022-08-16T18:30:53.943Z"
   },
   {
    "duration": 16,
    "start_time": "2022-08-16T18:30:53.958Z"
   },
   {
    "duration": 43,
    "start_time": "2022-08-16T18:30:53.975Z"
   },
   {
    "duration": 20,
    "start_time": "2022-08-16T18:30:54.020Z"
   },
   {
    "duration": 12,
    "start_time": "2022-08-16T18:30:54.042Z"
   },
   {
    "duration": 12,
    "start_time": "2022-08-16T18:30:54.056Z"
   },
   {
    "duration": 4,
    "start_time": "2022-08-16T18:30:54.070Z"
   },
   {
    "duration": 43,
    "start_time": "2022-08-16T18:30:54.075Z"
   },
   {
    "duration": 13,
    "start_time": "2022-08-16T18:30:54.119Z"
   },
   {
    "duration": 20,
    "start_time": "2022-08-16T18:30:54.134Z"
   },
   {
    "duration": 13,
    "start_time": "2022-08-16T18:30:54.156Z"
   },
   {
    "duration": 44,
    "start_time": "2022-08-16T18:30:54.171Z"
   },
   {
    "duration": 4,
    "start_time": "2022-08-16T18:30:54.217Z"
   },
   {
    "duration": 1,
    "start_time": "2022-08-16T18:30:54.226Z"
   },
   {
    "duration": 5,
    "start_time": "2022-08-16T18:30:54.229Z"
   },
   {
    "duration": 9,
    "start_time": "2022-08-16T18:30:56.850Z"
   },
   {
    "duration": 11,
    "start_time": "2022-08-16T18:31:06.659Z"
   },
   {
    "duration": 14,
    "start_time": "2022-08-16T18:31:07.195Z"
   },
   {
    "duration": 5,
    "start_time": "2022-08-16T18:31:08.125Z"
   },
   {
    "duration": 17,
    "start_time": "2022-08-16T18:31:09.060Z"
   },
   {
    "duration": 12,
    "start_time": "2022-08-16T18:31:09.500Z"
   },
   {
    "duration": 17,
    "start_time": "2022-08-16T18:31:09.924Z"
   },
   {
    "duration": 15,
    "start_time": "2022-08-16T18:31:10.348Z"
   },
   {
    "duration": 11,
    "start_time": "2022-08-16T18:31:12.299Z"
   },
   {
    "duration": 4,
    "start_time": "2022-08-16T18:31:15.582Z"
   },
   {
    "duration": 8,
    "start_time": "2022-08-16T18:31:20.668Z"
   },
   {
    "duration": 7,
    "start_time": "2022-08-16T18:31:24.120Z"
   },
   {
    "duration": 8,
    "start_time": "2022-08-16T18:31:32.885Z"
   },
   {
    "duration": 5,
    "start_time": "2022-08-16T18:31:45.932Z"
   },
   {
    "duration": 186,
    "start_time": "2022-08-16T18:31:45.940Z"
   },
   {
    "duration": 6,
    "start_time": "2022-08-16T18:31:46.128Z"
   },
   {
    "duration": 34,
    "start_time": "2022-08-16T18:31:46.135Z"
   },
   {
    "duration": 2,
    "start_time": "2022-08-16T18:31:46.170Z"
   },
   {
    "duration": 6,
    "start_time": "2022-08-16T18:31:46.173Z"
   },
   {
    "duration": 37,
    "start_time": "2022-08-16T18:31:46.180Z"
   },
   {
    "duration": 8,
    "start_time": "2022-08-16T18:31:46.219Z"
   },
   {
    "duration": 33,
    "start_time": "2022-08-16T18:31:46.228Z"
   },
   {
    "duration": 17,
    "start_time": "2022-08-16T18:31:46.264Z"
   },
   {
    "duration": 30,
    "start_time": "2022-08-16T18:31:46.282Z"
   },
   {
    "duration": 62,
    "start_time": "2022-08-16T18:31:46.314Z"
   },
   {
    "duration": 83,
    "start_time": "2022-08-16T18:31:46.378Z"
   },
   {
    "duration": 66,
    "start_time": "2022-08-16T18:31:46.463Z"
   },
   {
    "duration": 36,
    "start_time": "2022-08-16T18:31:46.530Z"
   },
   {
    "duration": 10,
    "start_time": "2022-08-16T18:31:46.567Z"
   },
   {
    "duration": 55,
    "start_time": "2022-08-16T18:31:46.578Z"
   },
   {
    "duration": 14,
    "start_time": "2022-08-16T18:31:46.634Z"
   },
   {
    "duration": 15,
    "start_time": "2022-08-16T18:31:46.649Z"
   },
   {
    "duration": 5,
    "start_time": "2022-08-16T18:31:46.666Z"
   },
   {
    "duration": 37,
    "start_time": "2022-08-16T18:31:46.673Z"
   },
   {
    "duration": 14,
    "start_time": "2022-08-16T18:31:46.712Z"
   },
   {
    "duration": 15,
    "start_time": "2022-08-16T18:31:46.728Z"
   },
   {
    "duration": 12,
    "start_time": "2022-08-16T18:31:46.744Z"
   },
   {
    "duration": 14,
    "start_time": "2022-08-16T18:31:46.758Z"
   },
   {
    "duration": 41,
    "start_time": "2022-08-16T18:31:46.774Z"
   },
   {
    "duration": 17,
    "start_time": "2022-08-16T18:31:46.817Z"
   },
   {
    "duration": 17,
    "start_time": "2022-08-16T18:31:46.837Z"
   },
   {
    "duration": 14,
    "start_time": "2022-08-16T18:31:46.856Z"
   },
   {
    "duration": 4,
    "start_time": "2022-08-16T18:31:46.871Z"
   },
   {
    "duration": 32,
    "start_time": "2022-08-16T18:31:46.877Z"
   },
   {
    "duration": 10,
    "start_time": "2022-08-16T18:31:46.910Z"
   },
   {
    "duration": 16,
    "start_time": "2022-08-16T18:31:46.921Z"
   },
   {
    "duration": 19,
    "start_time": "2022-08-16T18:31:46.939Z"
   },
   {
    "duration": 15,
    "start_time": "2022-08-16T18:31:46.960Z"
   },
   {
    "duration": 4,
    "start_time": "2022-08-16T18:31:46.976Z"
   },
   {
    "duration": 5,
    "start_time": "2022-08-16T18:31:46.981Z"
   },
   {
    "duration": 8,
    "start_time": "2022-08-16T18:31:46.987Z"
   },
   {
    "duration": 8,
    "start_time": "2022-08-16T18:31:55.663Z"
   },
   {
    "duration": 3,
    "start_time": "2022-08-16T18:31:58.630Z"
   },
   {
    "duration": 165,
    "start_time": "2022-08-16T18:31:58.634Z"
   },
   {
    "duration": 10,
    "start_time": "2022-08-16T18:31:58.801Z"
   },
   {
    "duration": 35,
    "start_time": "2022-08-16T18:31:58.813Z"
   },
   {
    "duration": 3,
    "start_time": "2022-08-16T18:31:58.849Z"
   },
   {
    "duration": 9,
    "start_time": "2022-08-16T18:31:58.853Z"
   },
   {
    "duration": 11,
    "start_time": "2022-08-16T18:31:58.864Z"
   },
   {
    "duration": 3,
    "start_time": "2022-08-16T18:31:58.877Z"
   },
   {
    "duration": 43,
    "start_time": "2022-08-16T18:31:58.882Z"
   },
   {
    "duration": 18,
    "start_time": "2022-08-16T18:31:58.927Z"
   },
   {
    "duration": 28,
    "start_time": "2022-08-16T18:31:58.947Z"
   },
   {
    "duration": 84,
    "start_time": "2022-08-16T18:31:58.976Z"
   },
   {
    "duration": 77,
    "start_time": "2022-08-16T18:31:59.062Z"
   },
   {
    "duration": 71,
    "start_time": "2022-08-16T18:31:59.141Z"
   },
   {
    "duration": 35,
    "start_time": "2022-08-16T18:31:59.214Z"
   },
   {
    "duration": 9,
    "start_time": "2022-08-16T18:31:59.251Z"
   },
   {
    "duration": 54,
    "start_time": "2022-08-16T18:31:59.262Z"
   },
   {
    "duration": 13,
    "start_time": "2022-08-16T18:31:59.318Z"
   },
   {
    "duration": 11,
    "start_time": "2022-08-16T18:31:59.333Z"
   },
   {
    "duration": 3,
    "start_time": "2022-08-16T18:31:59.346Z"
   },
   {
    "duration": 22,
    "start_time": "2022-08-16T18:31:59.351Z"
   },
   {
    "duration": 38,
    "start_time": "2022-08-16T18:31:59.375Z"
   },
   {
    "duration": 14,
    "start_time": "2022-08-16T18:31:59.414Z"
   },
   {
    "duration": 12,
    "start_time": "2022-08-16T18:31:59.431Z"
   },
   {
    "duration": 16,
    "start_time": "2022-08-16T18:31:59.445Z"
   },
   {
    "duration": 13,
    "start_time": "2022-08-16T18:31:59.463Z"
   },
   {
    "duration": 37,
    "start_time": "2022-08-16T18:31:59.478Z"
   },
   {
    "duration": 15,
    "start_time": "2022-08-16T18:31:59.516Z"
   },
   {
    "duration": 11,
    "start_time": "2022-08-16T18:31:59.533Z"
   },
   {
    "duration": 7,
    "start_time": "2022-08-16T18:31:59.546Z"
   },
   {
    "duration": 24,
    "start_time": "2022-08-16T18:31:59.554Z"
   },
   {
    "duration": 19,
    "start_time": "2022-08-16T18:31:59.580Z"
   },
   {
    "duration": 16,
    "start_time": "2022-08-16T18:31:59.609Z"
   },
   {
    "duration": 11,
    "start_time": "2022-08-16T18:31:59.626Z"
   },
   {
    "duration": 9,
    "start_time": "2022-08-16T18:31:59.638Z"
   },
   {
    "duration": 4,
    "start_time": "2022-08-16T18:31:59.649Z"
   },
   {
    "duration": 5,
    "start_time": "2022-08-16T18:31:59.654Z"
   },
   {
    "duration": 7,
    "start_time": "2022-08-16T18:31:59.660Z"
   },
   {
    "duration": 9,
    "start_time": "2022-08-16T18:33:11.630Z"
   },
   {
    "duration": 11,
    "start_time": "2022-08-16T18:33:16.002Z"
   },
   {
    "duration": 3,
    "start_time": "2022-08-16T18:33:18.067Z"
   },
   {
    "duration": 174,
    "start_time": "2022-08-16T18:33:18.072Z"
   },
   {
    "duration": 6,
    "start_time": "2022-08-16T18:33:18.248Z"
   },
   {
    "duration": 38,
    "start_time": "2022-08-16T18:33:18.256Z"
   },
   {
    "duration": 14,
    "start_time": "2022-08-16T18:33:18.296Z"
   },
   {
    "duration": 12,
    "start_time": "2022-08-16T18:33:18.311Z"
   },
   {
    "duration": 13,
    "start_time": "2022-08-16T18:33:18.324Z"
   },
   {
    "duration": 3,
    "start_time": "2022-08-16T18:33:18.339Z"
   },
   {
    "duration": 38,
    "start_time": "2022-08-16T18:33:18.346Z"
   },
   {
    "duration": 32,
    "start_time": "2022-08-16T18:33:18.386Z"
   },
   {
    "duration": 30,
    "start_time": "2022-08-16T18:33:18.420Z"
   },
   {
    "duration": 83,
    "start_time": "2022-08-16T18:33:18.452Z"
   },
   {
    "duration": 86,
    "start_time": "2022-08-16T18:33:18.537Z"
   },
   {
    "duration": 64,
    "start_time": "2022-08-16T18:33:18.625Z"
   },
   {
    "duration": 50,
    "start_time": "2022-08-16T18:33:18.690Z"
   },
   {
    "duration": 10,
    "start_time": "2022-08-16T18:33:18.742Z"
   },
   {
    "duration": 40,
    "start_time": "2022-08-16T18:33:18.754Z"
   },
   {
    "duration": 14,
    "start_time": "2022-08-16T18:33:18.808Z"
   },
   {
    "duration": 14,
    "start_time": "2022-08-16T18:33:18.824Z"
   },
   {
    "duration": 4,
    "start_time": "2022-08-16T18:33:18.839Z"
   },
   {
    "duration": 25,
    "start_time": "2022-08-16T18:33:18.845Z"
   },
   {
    "duration": 38,
    "start_time": "2022-08-16T18:33:18.872Z"
   },
   {
    "duration": 14,
    "start_time": "2022-08-16T18:33:18.912Z"
   },
   {
    "duration": 13,
    "start_time": "2022-08-16T18:33:18.930Z"
   },
   {
    "duration": 17,
    "start_time": "2022-08-16T18:33:18.945Z"
   },
   {
    "duration": 46,
    "start_time": "2022-08-16T18:33:18.964Z"
   },
   {
    "duration": 9,
    "start_time": "2022-08-16T18:33:19.012Z"
   },
   {
    "duration": 16,
    "start_time": "2022-08-16T18:33:19.023Z"
   },
   {
    "duration": 13,
    "start_time": "2022-08-16T18:33:19.040Z"
   },
   {
    "duration": 5,
    "start_time": "2022-08-16T18:33:19.055Z"
   },
   {
    "duration": 21,
    "start_time": "2022-08-16T18:33:19.062Z"
   },
   {
    "duration": 35,
    "start_time": "2022-08-16T18:33:19.084Z"
   },
   {
    "duration": 16,
    "start_time": "2022-08-16T18:33:19.120Z"
   },
   {
    "duration": 11,
    "start_time": "2022-08-16T18:33:19.137Z"
   },
   {
    "duration": 11,
    "start_time": "2022-08-16T18:33:19.150Z"
   },
   {
    "duration": 5,
    "start_time": "2022-08-16T18:33:19.162Z"
   },
   {
    "duration": 5,
    "start_time": "2022-08-16T18:33:19.168Z"
   },
   {
    "duration": 35,
    "start_time": "2022-08-16T18:33:19.174Z"
   },
   {
    "duration": 4,
    "start_time": "2022-08-16T18:33:24.364Z"
   },
   {
    "duration": 8,
    "start_time": "2022-08-16T18:36:04.053Z"
   },
   {
    "duration": 6,
    "start_time": "2022-08-16T18:36:14.984Z"
   },
   {
    "duration": 5,
    "start_time": "2022-08-16T18:36:16.899Z"
   },
   {
    "duration": 39,
    "start_time": "2022-08-16T18:51:01.883Z"
   }
  ],
  "colab": {
   "collapsed_sections": [
    "E0vqbgi9ay0H",
    "VUC88oWjTJw2"
   ],
   "name": "automatization_template_upd4.ipynb",
   "provenance": []
  },
  "kernelspec": {
   "display_name": "Python 3 (ipykernel)",
   "language": "python",
   "name": "python3"
  },
  "language_info": {
   "codemirror_mode": {
    "name": "ipython",
    "version": 3
   },
   "file_extension": ".py",
   "mimetype": "text/x-python",
   "name": "python",
   "nbconvert_exporter": "python",
   "pygments_lexer": "ipython3",
   "version": "3.9.5"
  },
  "toc": {
   "base_numbering": 1,
   "nav_menu": {
    "height": "215px",
    "width": "403px"
   },
   "number_sections": true,
   "sideBar": true,
   "skip_h1_title": true,
   "title_cell": "Table of Contents",
   "title_sidebar": "Contents",
   "toc_cell": false,
   "toc_position": {
    "height": "calc(100% - 180px)",
    "left": "10px",
    "top": "150px",
    "width": "285.825px"
   },
   "toc_section_display": true,
   "toc_window_display": true
  }
 },
 "nbformat": 4,
 "nbformat_minor": 1
}
